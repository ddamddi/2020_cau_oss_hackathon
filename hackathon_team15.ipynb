{
  "nbformat": 4,
  "nbformat_minor": 0,
  "metadata": {
    "accelerator": "GPU",
    "colab": {
      "name": "hackathon_team15_777.ipynb",
      "provenance": [],
      "collapsed_sections": [
        "1AosAX9DXOlc"
      ],
      "include_colab_link": true
    },
    "kernelspec": {
      "display_name": "Python 3",
      "language": "python",
      "name": "python3"
    },
    "language_info": {
      "codemirror_mode": {
        "name": "ipython",
        "version": 3
      },
      "file_extension": ".py",
      "mimetype": "text/x-python",
      "name": "python",
      "nbconvert_exporter": "python",
      "pygments_lexer": "ipython3",
      "version": "3.7.4"
    },
    "widgets": {
      "application/vnd.jupyter.widget-state+json": {
        "ea94cb70a4df4f0fa123cbd1bcbf5206": {
          "model_module": "@jupyter-widgets/controls",
          "model_name": "HBoxModel",
          "state": {
            "_view_name": "HBoxView",
            "_dom_classes": [],
            "_model_name": "HBoxModel",
            "_view_module": "@jupyter-widgets/controls",
            "_model_module_version": "1.5.0",
            "_view_count": null,
            "_view_module_version": "1.5.0",
            "box_style": "",
            "layout": "IPY_MODEL_12203ea2b0894eca9aa1854585bf363f",
            "_model_module": "@jupyter-widgets/controls",
            "children": [
              "IPY_MODEL_0241be55a3374acf9ece6e1f6ed72ba7",
              "IPY_MODEL_437622b9fa4b454a8885f53cf4edb9cd"
            ]
          }
        },
        "12203ea2b0894eca9aa1854585bf363f": {
          "model_module": "@jupyter-widgets/base",
          "model_name": "LayoutModel",
          "state": {
            "_view_name": "LayoutView",
            "grid_template_rows": null,
            "right": null,
            "justify_content": null,
            "_view_module": "@jupyter-widgets/base",
            "overflow": null,
            "_model_module_version": "1.2.0",
            "_view_count": null,
            "flex_flow": null,
            "width": null,
            "min_width": null,
            "border": null,
            "align_items": null,
            "bottom": null,
            "_model_module": "@jupyter-widgets/base",
            "top": null,
            "grid_column": null,
            "overflow_y": null,
            "overflow_x": null,
            "grid_auto_flow": null,
            "grid_area": null,
            "grid_template_columns": null,
            "flex": null,
            "_model_name": "LayoutModel",
            "justify_items": null,
            "grid_row": null,
            "max_height": null,
            "align_content": null,
            "visibility": null,
            "align_self": null,
            "height": null,
            "min_height": null,
            "padding": null,
            "grid_auto_rows": null,
            "grid_gap": null,
            "max_width": null,
            "order": null,
            "_view_module_version": "1.2.0",
            "grid_template_areas": null,
            "object_position": null,
            "object_fit": null,
            "grid_auto_columns": null,
            "margin": null,
            "display": null,
            "left": null
          }
        },
        "0241be55a3374acf9ece6e1f6ed72ba7": {
          "model_module": "@jupyter-widgets/controls",
          "model_name": "FloatProgressModel",
          "state": {
            "_view_name": "ProgressView",
            "style": "IPY_MODEL_8cd334c111084df19e44fd4220827066",
            "_dom_classes": [],
            "description": "100%",
            "_model_name": "FloatProgressModel",
            "bar_style": "success",
            "max": 112800,
            "_view_module": "@jupyter-widgets/controls",
            "_model_module_version": "1.5.0",
            "value": 112800,
            "_view_count": null,
            "_view_module_version": "1.5.0",
            "orientation": "horizontal",
            "min": 0,
            "description_tooltip": null,
            "_model_module": "@jupyter-widgets/controls",
            "layout": "IPY_MODEL_f7a6402dc7154315919b0f7e706728fe"
          }
        },
        "437622b9fa4b454a8885f53cf4edb9cd": {
          "model_module": "@jupyter-widgets/controls",
          "model_name": "HTMLModel",
          "state": {
            "_view_name": "HTMLView",
            "style": "IPY_MODEL_2e88bfb7ea3c4d5c9bad1bb1f9db4bd5",
            "_dom_classes": [],
            "description": "",
            "_model_name": "HTMLModel",
            "placeholder": "​",
            "_view_module": "@jupyter-widgets/controls",
            "_model_module_version": "1.5.0",
            "value": " 112800/112800 [00:01&lt;00:00, 78569.27it/s]",
            "_view_count": null,
            "_view_module_version": "1.5.0",
            "description_tooltip": null,
            "_model_module": "@jupyter-widgets/controls",
            "layout": "IPY_MODEL_f8e26ea54efa40a6897161d9bf5a1d52"
          }
        },
        "8cd334c111084df19e44fd4220827066": {
          "model_module": "@jupyter-widgets/controls",
          "model_name": "ProgressStyleModel",
          "state": {
            "_view_name": "StyleView",
            "_model_name": "ProgressStyleModel",
            "description_width": "initial",
            "_view_module": "@jupyter-widgets/base",
            "_model_module_version": "1.5.0",
            "_view_count": null,
            "_view_module_version": "1.2.0",
            "bar_color": null,
            "_model_module": "@jupyter-widgets/controls"
          }
        },
        "f7a6402dc7154315919b0f7e706728fe": {
          "model_module": "@jupyter-widgets/base",
          "model_name": "LayoutModel",
          "state": {
            "_view_name": "LayoutView",
            "grid_template_rows": null,
            "right": null,
            "justify_content": null,
            "_view_module": "@jupyter-widgets/base",
            "overflow": null,
            "_model_module_version": "1.2.0",
            "_view_count": null,
            "flex_flow": null,
            "width": null,
            "min_width": null,
            "border": null,
            "align_items": null,
            "bottom": null,
            "_model_module": "@jupyter-widgets/base",
            "top": null,
            "grid_column": null,
            "overflow_y": null,
            "overflow_x": null,
            "grid_auto_flow": null,
            "grid_area": null,
            "grid_template_columns": null,
            "flex": null,
            "_model_name": "LayoutModel",
            "justify_items": null,
            "grid_row": null,
            "max_height": null,
            "align_content": null,
            "visibility": null,
            "align_self": null,
            "height": null,
            "min_height": null,
            "padding": null,
            "grid_auto_rows": null,
            "grid_gap": null,
            "max_width": null,
            "order": null,
            "_view_module_version": "1.2.0",
            "grid_template_areas": null,
            "object_position": null,
            "object_fit": null,
            "grid_auto_columns": null,
            "margin": null,
            "display": null,
            "left": null
          }
        },
        "2e88bfb7ea3c4d5c9bad1bb1f9db4bd5": {
          "model_module": "@jupyter-widgets/controls",
          "model_name": "DescriptionStyleModel",
          "state": {
            "_view_name": "StyleView",
            "_model_name": "DescriptionStyleModel",
            "description_width": "",
            "_view_module": "@jupyter-widgets/base",
            "_model_module_version": "1.5.0",
            "_view_count": null,
            "_view_module_version": "1.2.0",
            "_model_module": "@jupyter-widgets/controls"
          }
        },
        "f8e26ea54efa40a6897161d9bf5a1d52": {
          "model_module": "@jupyter-widgets/base",
          "model_name": "LayoutModel",
          "state": {
            "_view_name": "LayoutView",
            "grid_template_rows": null,
            "right": null,
            "justify_content": null,
            "_view_module": "@jupyter-widgets/base",
            "overflow": null,
            "_model_module_version": "1.2.0",
            "_view_count": null,
            "flex_flow": null,
            "width": null,
            "min_width": null,
            "border": null,
            "align_items": null,
            "bottom": null,
            "_model_module": "@jupyter-widgets/base",
            "top": null,
            "grid_column": null,
            "overflow_y": null,
            "overflow_x": null,
            "grid_auto_flow": null,
            "grid_area": null,
            "grid_template_columns": null,
            "flex": null,
            "_model_name": "LayoutModel",
            "justify_items": null,
            "grid_row": null,
            "max_height": null,
            "align_content": null,
            "visibility": null,
            "align_self": null,
            "height": null,
            "min_height": null,
            "padding": null,
            "grid_auto_rows": null,
            "grid_gap": null,
            "max_width": null,
            "order": null,
            "_view_module_version": "1.2.0",
            "grid_template_areas": null,
            "object_position": null,
            "object_fit": null,
            "grid_auto_columns": null,
            "margin": null,
            "display": null,
            "left": null
          }
        }
      }
    }
  },
  "cells": [
    {
      "cell_type": "markdown",
      "metadata": {
        "id": "view-in-github",
        "colab_type": "text"
      },
      "source": [
        "<a href=\"https://colab.research.google.com/github/ddamddi/2020_cau_oss_hackathon/blob/master/hackathon_team15.ipynb\" target=\"_parent\"><img src=\"https://colab.research.google.com/assets/colab-badge.svg\" alt=\"Open In Colab\"/></a>"
      ]
    },
    {
      "cell_type": "markdown",
      "metadata": {
        "colab_type": "text",
        "id": "1AosAX9DXOlc"
      },
      "source": [
        "# **0. 해커톤 진행 주의사항**\n",
        "\n",
        "**1)  개발 관련 주의사항**\n",
        "*   [1. 초기 환경 설정]은 절대 수정하지 말 것\n",
        "*   모든 구현은 [2. 데이터 전처리] 및 [3.모델 생성]에서만 진행\n",
        "*   [4. 모델 저장]에서 team_name 변수 변경 (예.`team_name = 'team01'`)\n",
        " *    트레이닝 중간에 checkpoint를 활용하여 모델을 저장한 경우에도 파일 이름 양식 통일 필수\n",
        "*   Colab 사용중 실수로 데이터 손실이 발생할 수도 있으니 중간 결과값을 github에 업로드 \n",
        " *    \"런타임->모든 런타임 재설정\"은 절대 누르지 말 것 (저장한 모델 데이터가 모두 삭제됨)\n",
        "*   효율적인 구현 및 테스팅을 위해 GPU 가속 기능 활성화\n",
        " *    \"런타임 -> 런타임 유형변경 -> 하드웨어 가속기 -> GPU 설정\"\n",
        "*   주석을 최대한 자세히 작성\n",
        "*   Keras API 관련하여 [Keras Documentation](https://keras.io/) 참조\n",
        "\n",
        "**2) 제출 관련 주의사항**\n",
        "*  제출물\n",
        " *  소스코드 (hackathon_teamXX.ipynb)\n",
        " *  컴파일된 모델 파일 (model_entire_teamXX.h5)\n",
        " *  모델 발표 자료 \n",
        "* 제출 기한: **오후 5시 (단, 발표자료는 11시)**\n",
        "* 제출 방법: [GitHub README](https://github.com/cauosshackathonta/2020_cau_oss_hackathon/) 참조\n",
        "\n",
        " \n",
        "**3) 평가 관련 주의사항**\n",
        "*  모델 성능 = 테스트 데이터 셋 분류 정확도\n",
        " *  model.evaluate(x_test, y_test)\n",
        "*  제출된 모델들의 테스트 데이터 셋 분류 정확도를 기준으로 수상작 결정\n",
        "*  수상 후보들에 대해서는 소스코드를 기반으로 모델 재검증 \n",
        " \n",
        "**4) 수상 실격 사유**\n",
        "*  유사한 소스코드 or 알고리즘이 적발될 경우\n",
        "*  소스코드와 제출된 모델이 상이한 경우\n",
        "*  개발 관련 주의사항을 지키지 않은 경우\n",
        " *  예: [초기 환경 설정]을 수정한 경우\n",
        "*  데이터 셋을 변조한 경우\n",
        " *  예. 테스트 데이터 셋을 트레이닝 데이터 셋에 포함하여 모델 생성 \n",
        "*  주석이 소스코드와 맞지 않거나 미비할 경우\n",
        "\n",
        "\n",
        "\n",
        "\n"
      ]
    },
    {
      "cell_type": "markdown",
      "metadata": {
        "colab_type": "text",
        "id": "67lwEXhUqys1"
      },
      "source": [
        "# **1. 초기 환경 설정**\n",
        "\n"
      ]
    },
    {
      "cell_type": "code",
      "metadata": {
        "colab_type": "code",
        "id": "Ms5PBBJ1qSC6",
        "colab": {}
      },
      "source": [
        "from __future__ import absolute_import, division, print_function, unicode_literals, unicode_literals\n",
        "\n",
        "# tensorflow와 tf.keras 및 관련 라이브러리 임포트\n",
        "import tensorflow as tf\n",
        "from tensorflow import keras\n",
        "from keras.utils import np_utils\n",
        "\n",
        "import numpy as np\n",
        "\n",
        "# 데이터셋 다운로드\n",
        "check = !if [ -d 'dataset/' ]; then echo \"1\" ; else echo \"0\"; fi\n",
        "if (check[0] is '0' ):\n",
        "  !mkdir dataset\n",
        "  !wget 'https://www.itl.nist.gov/iaui/vip/cs_links/EMNIST/matlab.zip'\n",
        "  !unzip matlab.zip -d /content/dataset\n",
        "\n",
        "# 데이터셋 로드\n",
        "from scipy import io as spio\n",
        "emnist = spio.loadmat(\"/content/dataset/matlab/emnist-balanced.mat\")\n",
        "\n",
        "x_train = emnist[\"dataset\"][0][0][0][0][0][0]\n",
        "y_train = emnist[\"dataset\"][0][0][0][0][0][1]\n",
        "\n",
        "x_test = emnist[\"dataset\"][0][0][1][0][0][0]\n",
        "y_test = emnist[\"dataset\"][0][0][1][0][0][1]\n",
        "\n",
        "# # 분류를 위해 클래스 벡터를 바이너리 매트릭스로 변환\n",
        "y_train = np_utils.to_categorical(y_train)\n",
        "y_test = np_utils.to_categorical(y_test)\n",
        "\n",
        "# 데이터 28x28 이미지화\n",
        "x_train = x_train.reshape(x_train.shape[0], 28, 28, 1).astype('float32')\n",
        "x_test = x_test.reshape(x_test.shape[0], 28, 28, 1).astype('float32')\n",
        "\n",
        "# 총 클래스 개수\n",
        "num_classes = y_test.shape[1]\n",
        "input_shape = x_test.shape[1:]"
      ],
      "execution_count": 1,
      "outputs": []
    },
    {
      "cell_type": "markdown",
      "metadata": {
        "colab_type": "text",
        "id": "A-YjppJpXBO9"
      },
      "source": [
        "# **2. 데이터 전처리**\n",
        "\n"
      ]
    },
    {
      "cell_type": "code",
      "metadata": {
        "id": "SXz2t_Bx7kzy",
        "colab_type": "code",
        "colab": {}
      },
      "source": [
        "from keras.preprocessing.image import ImageDataGenerator\n",
        "from skimage.transform import resize\n",
        "from tqdm.notebook import tqdm"
      ],
      "execution_count": 2,
      "outputs": []
    },
    {
      "cell_type": "code",
      "metadata": {
        "id": "sMeD2ezlWa0m",
        "colab_type": "code",
        "colab": {}
      },
      "source": [
        "def smooth_labels(labels, factor=0.1):\n",
        "  for idx in tqdm(range(len(labels))):\n",
        "    labels[idx] *= (1-factor)\n",
        "    labels[idx] += (factor / labels[idx].shape[0])\n",
        "  return labels"
      ],
      "execution_count": 3,
      "outputs": []
    },
    {
      "cell_type": "code",
      "metadata": {
        "id": "hqQ35D0kCCiC",
        "colab_type": "code",
        "colab": {}
      },
      "source": [
        "CONFIG = {\n",
        "    'team_name': 'ParisAI',\n",
        "    'filepath': '/content/',\n",
        "    'augmentations': {\n",
        "      'label_smoothing' : True,\n",
        "      'label_smoothing_factor': 0.2,\n",
        "    }\n",
        "\n",
        "    'epoch': 50,\n",
        "    'batch_size': 128,\n",
        "    'optimizer': 'adam',\n",
        "    'initial_lr': 1e-4,\n",
        "}"
      ],
      "execution_count": 4,
      "outputs": []
    },
    {
      "cell_type": "code",
      "metadata": {
        "id": "BeO1oaTWLZxz",
        "colab_type": "code",
        "colab": {
          "base_uri": "https://localhost:8080/",
          "height": 87
        },
        "outputId": "8b38decf-6b2c-4fe3-c6a3-c9274ef0ce06"
      },
      "source": [
        "print(x_train.shape)\n",
        "print(y_train.shape)\n",
        "\n",
        "print(x_test.shape)\n",
        "print(y_test.shape)"
      ],
      "execution_count": 5,
      "outputs": [
        {
          "output_type": "stream",
          "text": [
            "(112800, 28, 28, 1)\n",
            "(112800, 47)\n",
            "(18800, 28, 28, 1)\n",
            "(18800, 47)\n"
          ],
          "name": "stdout"
        }
      ]
    },
    {
      "cell_type": "code",
      "metadata": {
        "id": "WGT5WMgR1ax7",
        "colab_type": "code",
        "colab": {}
      },
      "source": [
        "X_MEAN = 44.651615\n",
        "X_STD  = 84.974724\n",
        "\n",
        "def mean_std_normalization(x):\n",
        "  x -= X_MEAN\n",
        "  x /= X_STD\n",
        "  return x"
      ],
      "execution_count": 6,
      "outputs": []
    },
    {
      "cell_type": "code",
      "metadata": {
        "id": "TY6VrqFZW7iA",
        "colab_type": "code",
        "colab": {
          "base_uri": "https://localhost:8080/",
          "height": 66,
          "referenced_widgets": [
            "ea94cb70a4df4f0fa123cbd1bcbf5206",
            "12203ea2b0894eca9aa1854585bf363f",
            "0241be55a3374acf9ece6e1f6ed72ba7",
            "437622b9fa4b454a8885f53cf4edb9cd",
            "8cd334c111084df19e44fd4220827066",
            "f7a6402dc7154315919b0f7e706728fe",
            "2e88bfb7ea3c4d5c9bad1bb1f9db4bd5",
            "f8e26ea54efa40a6897161d9bf5a1d52"
          ]
        },
        "outputId": "ca8a6757-fbcf-4a67-db69-ae46d3092a3c"
      },
      "source": [
        "if CONFIG['augmentations']['label_smoothing']:\n",
        "  y_train = smooth_labels(y_train, factor=CONFIG['augmentations']['label_smoothing_factor'])"
      ],
      "execution_count": 7,
      "outputs": [
        {
          "output_type": "display_data",
          "data": {
            "application/vnd.jupyter.widget-view+json": {
              "model_id": "ea94cb70a4df4f0fa123cbd1bcbf5206",
              "version_minor": 0,
              "version_major": 2
            },
            "text/plain": [
              "HBox(children=(FloatProgress(value=0.0, max=112800.0), HTML(value='')))"
            ]
          },
          "metadata": {
            "tags": []
          }
        },
        {
          "output_type": "stream",
          "text": [
            "\n"
          ],
          "name": "stdout"
        }
      ]
    },
    {
      "cell_type": "code",
      "metadata": {
        "colab_type": "code",
        "id": "QZ9KWTBP6AI1",
        "colab": {}
      },
      "source": [
        "train_datagen = ImageDataGenerator(\n",
        "    preprocessing_function=mean_std_normalization,\n",
        "    horizontal_flip=True,\n",
        ")\n",
        "\n",
        "train_generator = train_datagen.flow(\n",
        "    x=x_train,\n",
        "    y=y_train,\n",
        "    shuffle=True,\n",
        "    batch_size=CONFIG['batch_size'],\n",
        ")"
      ],
      "execution_count": 8,
      "outputs": []
    },
    {
      "cell_type": "code",
      "metadata": {
        "id": "8OO9U2Tt9h60",
        "colab_type": "code",
        "colab": {}
      },
      "source": [
        "test_datagen = ImageDataGenerator(preprocessing_function=mean_std_normalization)\n",
        "test_generator = test_datagen.flow(x=x_test, y=y_test, batch_size=CONFIG['batch_size'],)"
      ],
      "execution_count": 9,
      "outputs": []
    },
    {
      "cell_type": "markdown",
      "metadata": {
        "colab_type": "text",
        "id": "v-lo-O1yiFpY"
      },
      "source": [
        "# **3. 모델 생성**"
      ]
    },
    {
      "cell_type": "code",
      "metadata": {
        "id": "Hfk_h7vbzlpq",
        "colab_type": "code",
        "colab": {}
      },
      "source": [
        "from keras.models import Sequential\n",
        "from keras.layers import MaxPooling2D, Flatten, Dense, Conv2D, BatchNormalization, Dropout\n",
        "from keras.callbacks import ModelCheckpoint, ReduceLROnPlateau, LearningRateScheduler, EarlyStopping\n",
        "from keras.optimizers import SGD, Adam\n",
        "import math\n",
        "from keras.callbacks import Callback\n",
        "from keras import backend as K"
      ],
      "execution_count": 10,
      "outputs": []
    },
    {
      "cell_type": "code",
      "metadata": {
        "id": "McE5qQ90P7HE",
        "colab_type": "code",
        "colab": {}
      },
      "source": [
        "class ConsineAnnealingScheduler(Callback):\n",
        "  def __init__(self, T_max, eta_max, eta_min=0, verbose=1):\n",
        "    super(ConsineAnnealingScheduler, self).__init__()\n",
        "    self.T_max = T_max\n",
        "    self.eta_max = eta_max\n",
        "    self.eta_min = eta_min\n",
        "    self.verbose = verbose\n",
        "  \n",
        "  def on_epoch_begin(self, epoch, logs=None):\n",
        "    lr = self.eta_min + (self.eta_max - self.eta_min) * (1 + math.cos(math.pi * epoch / (self.T_max - 1))) / 2\n",
        "    if self.verbose > 0:\n",
        "      print('\\nEpoch %05d: CosineAnnealingScheduler setting learning rate %s to %s.' % (epoch + 1, self.model.optimizer.lr, lr))\n",
        "    K.set_value(self.model.optimizer.lr, lr)\n",
        "\n",
        "  def on_epoch_end(self, epoch, logs=None):\n",
        "    logs = logs or {}\n",
        "    logs['lr'] = K.get_value(self.model.optimizer.lr)"
      ],
      "execution_count": 11,
      "outputs": []
    },
    {
      "cell_type": "code",
      "metadata": {
        "id": "zHcBrZE5FWTe",
        "colab_type": "code",
        "colab": {}
      },
      "source": [
        "def callbacks():\n",
        "  callbacks = [\n",
        "            # ReduceLROnPlateau(monitor='val_accuracy', factor=0.1, patience=3, verbose=1, mode='auto'),\n",
        "            ConsineAnnealingScheduler(T_max=CONFIG['epoch'], eta_max=1e-3, eta_min=1e-6),\n",
        "            ModelCheckpoint(\n",
        "                filepath='/content/checkpoint_entire_best.h5',\n",
        "                monitor=\"val_accuracy\",\n",
        "                verbose=1,\n",
        "                save_best_only=True,\n",
        "                save_weights_only=True,\n",
        "                mode=\"auto\",\n",
        "                save_freq=\"epoch\"\n",
        "            ),\n",
        "  ]\n",
        "\n",
        "  return callbacks"
      ],
      "execution_count": 12,
      "outputs": []
    },
    {
      "cell_type": "code",
      "metadata": {
        "id": "4GuDQ6vu_vc6",
        "colab_type": "code",
        "colab": {}
      },
      "source": [
        "def optimizer() -> keras.optimizers.Optimizer:\n",
        "  return Adam(lr=1e-3)"
      ],
      "execution_count": 13,
      "outputs": []
    },
    {
      "cell_type": "code",
      "metadata": {
        "id": "uOaOsf64KUIh",
        "colab_type": "code",
        "colab": {}
      },
      "source": [
        "model2 = Sequential()\n",
        "\n",
        "model2.add(Conv2D(filters=128, kernel_size=(5,5), padding = 'same', activation='relu',input_shape=input_shape))\n",
        "model2.add(MaxPooling2D(pool_size=(2,2), strides=(2,2)))\n",
        "model2.add(Conv2D(filters=64, kernel_size=(3,3) , padding = 'same', activation='relu'))\n",
        "model2.add(MaxPooling2D(pool_size=(2,2)))\n",
        "\n",
        "model2.add(Flatten())\n",
        "model2.add(Dense(units=128, activation='relu'))\n",
        "model2.add(Dropout(.5))\n",
        "model2.add(Dense(units=num_classes, activation='softmax'))\\\n",
        "\n",
        "model2.compile(loss='categorical_crossentropy', optimizer='adam', metrics=['accuracy'])\n",
        "# history = model.fit(x_train_after, y_train, epochs=10, batch_size=512, verbose=1, \\\n",
        "#                     validation_data=(x_test_after, y_test))\n",
        "\n",
        "# # 체크포인트 생성\n",
        "# cp_callback = tf.keras.callbacks.ModelCheckpoint(filepath='/content/checkpoint_entire_best.h5', monitor='val_accuracy', verbose=1, save_weight_only=False, save_best_only=True, mode='auto')\n",
        "\n",
        "# model.summary()"
      ],
      "execution_count": 14,
      "outputs": []
    },
    {
      "cell_type": "code",
      "metadata": {
        "colab_type": "code",
        "id": "DZP4eRmRqgRp",
        "colab": {}
      },
      "source": [
        "# 순차 모델 생성 (가장 기본구조)\n",
        "model = Sequential()\n",
        "\n",
        "# 28x28x1 -> \n",
        "model.add(Conv2D(32, kernel_size=3, strides=1, padding='same', activation='relu', input_shape=input_shape))\n",
        "model.add(Conv2D(32, kernel_size=3, strides=1, padding='same', activation='relu'))\n",
        "model.add(Conv2D(64, kernel_size=5, strides=2, padding='same', activation='relu'))\n",
        "model.add(Dropout(0.3))\n",
        "\n",
        "\n",
        "model.add(Conv2D(64, kernel_size=3, strides=1, padding='same', activation='relu', input_shape=input_shape))\n",
        "model.add(Conv2D(64, kernel_size=3, strides=1, padding='same', activation='relu'))\n",
        "model.add(Conv2D(128, kernel_size=5, strides=2, padding='same', activation='relu'))\n",
        "model.add(Dropout(0.3))\n",
        "\n",
        "\n",
        "model.add(Conv2D(128, kernel_size=3, activation='relu'))\n",
        "model.add(Flatten())\n",
        "model.add(keras.layers.Dense(num_classes, activation=tf.nn.softmax))\n",
        "\n",
        "# 모델 컴파일\n",
        "# optimizer: 모델을 업데이트 하는 방식\n",
        "# loss: 모델의 정확도를 판단하는 방식\n",
        "# metrics: 트레이닝 및 테스팅 성능 모니터링을 위한 평가지표\n",
        "model.compile(loss='categorical_crossentropy', optimizer=optimizer(), metrics=['accuracy'])\n",
        "\n",
        "\n",
        "# 체크포인트 생성\n",
        "# cp_callback = tf.keras.callbacks.ModelCheckpoint(filepath='/content/checkpoint_entire_best.h5', monitor='val_accuracy', verbose=1, save_weight_only=False, save_best_only=True, mode='auto')"
      ],
      "execution_count": 15,
      "outputs": []
    },
    {
      "cell_type": "code",
      "metadata": {
        "id": "h1Velc1f5e7D",
        "colab_type": "code",
        "colab": {
          "base_uri": "https://localhost:8080/",
          "height": 545
        },
        "outputId": "84c8c849-58e1-4202-ea1b-baf2dc46629a"
      },
      "source": [
        "model.summary()"
      ],
      "execution_count": 16,
      "outputs": [
        {
          "output_type": "stream",
          "text": [
            "Model: \"sequential\"\n",
            "_________________________________________________________________\n",
            "Layer (type)                 Output Shape              Param #   \n",
            "=================================================================\n",
            "conv2d (Conv2D)              (None, 28, 28, 32)        320       \n",
            "_________________________________________________________________\n",
            "conv2d_1 (Conv2D)            (None, 28, 28, 32)        9248      \n",
            "_________________________________________________________________\n",
            "conv2d_2 (Conv2D)            (None, 14, 14, 64)        51264     \n",
            "_________________________________________________________________\n",
            "dropout (Dropout)            (None, 14, 14, 64)        0         \n",
            "_________________________________________________________________\n",
            "conv2d_3 (Conv2D)            (None, 14, 14, 64)        36928     \n",
            "_________________________________________________________________\n",
            "conv2d_4 (Conv2D)            (None, 14, 14, 64)        36928     \n",
            "_________________________________________________________________\n",
            "conv2d_5 (Conv2D)            (None, 7, 7, 128)         204928    \n",
            "_________________________________________________________________\n",
            "dropout_1 (Dropout)          (None, 7, 7, 128)         0         \n",
            "_________________________________________________________________\n",
            "conv2d_6 (Conv2D)            (None, 5, 5, 128)         147584    \n",
            "_________________________________________________________________\n",
            "flatten (Flatten)            (None, 3200)              0         \n",
            "_________________________________________________________________\n",
            "dense (Dense)                (None, 47)                150447    \n",
            "=================================================================\n",
            "Total params: 637,647\n",
            "Trainable params: 637,647\n",
            "Non-trainable params: 0\n",
            "_________________________________________________________________\n"
          ],
          "name": "stdout"
        }
      ]
    },
    {
      "cell_type": "code",
      "metadata": {
        "id": "JzCnX-_d5hMk",
        "colab_type": "code",
        "colab": {
          "base_uri": "https://localhost:8080/",
          "height": 1000
        },
        "outputId": "aabc3da9-6436-4543-89d8-0c7b77158e77"
      },
      "source": [
        "# 모델 트레이닝\n",
        "# batch_size: 전체 데이터셋 중 몇개씩 학습시킬 것인지\n",
        "# epoch: 학습에 전체 데이터셋이 총 몇번 이용될 것인지\n",
        "# shuffle: 학습전에 트레이닝 데이터셋을 랜덤하게 섞을 것인지\n",
        "# validation_data: 중간 성능 검증에 사용할 data set\n",
        "# model.fit(x_train_after, y_train, batch_size = 128, epochs = 5, shuffle=True, callbacks=[cp_callback], validation_data=(x_test_after, y_test))\n",
        "hist = model.fit_generator(generator=train_generator,\n",
        "                    steps_per_epoch=len(train_generator),\n",
        "                    epochs=CONFIG['epoch'],\n",
        "                    callbacks=callbacks(),\n",
        "                    validation_data=test_generator,\n",
        "                    use_multiprocessing=True,\n",
        "                    workers=0)"
      ],
      "execution_count": null,
      "outputs": [
        {
          "output_type": "stream",
          "text": [
            "WARNING:tensorflow:From <ipython-input-17-18d5d4007cbe>:13: Model.fit_generator (from tensorflow.python.keras.engine.training) is deprecated and will be removed in a future version.\n",
            "Instructions for updating:\n",
            "Please use Model.fit, which supports generators.\n",
            "\n",
            "Epoch 00001: CosineAnnealingScheduler setting learning rate <tf.Variable 'learning_rate:0' shape=() dtype=float32, numpy=0.001> to 0.001.\n",
            "Epoch 1/50\n",
            "881/882 [============================>.] - ETA: 0s - loss: 2.0048 - accuracy: 0.7202\n",
            "Epoch 00001: val_accuracy improved from -inf to 0.82452, saving model to /content/checkpoint_entire_best.h5\n",
            "882/882 [==============================] - 18s 21ms/step - loss: 2.0045 - accuracy: 0.7203 - val_loss: 0.7657 - val_accuracy: 0.8245\n",
            "\n",
            "Epoch 00002: CosineAnnealingScheduler setting learning rate <tf.Variable 'learning_rate:0' shape=() dtype=float32, numpy=0.001> to 0.0009989737236787931.\n",
            "Epoch 2/50\n",
            "881/882 [============================>.] - ETA: 0s - loss: 1.6929 - accuracy: 0.8339\n",
            "Epoch 00002: val_accuracy improved from 0.82452 to 0.84154, saving model to /content/checkpoint_entire_best.h5\n",
            "882/882 [==============================] - 18s 20ms/step - loss: 1.6929 - accuracy: 0.8339 - val_loss: 0.6903 - val_accuracy: 0.8415\n",
            "\n",
            "Epoch 00003: CosineAnnealingScheduler setting learning rate <tf.Variable 'learning_rate:0' shape=() dtype=float32, numpy=0.0009989737> to 0.0009958991119047114.\n",
            "Epoch 3/50\n",
            "881/882 [============================>.] - ETA: 0s - loss: 1.6381 - accuracy: 0.8512\n",
            "Epoch 00003: val_accuracy improved from 0.84154 to 0.86027, saving model to /content/checkpoint_entire_best.h5\n",
            "882/882 [==============================] - 18s 20ms/step - loss: 1.6381 - accuracy: 0.8512 - val_loss: 0.6531 - val_accuracy: 0.8603\n",
            "\n",
            "Epoch 00004: CosineAnnealingScheduler setting learning rate <tf.Variable 'learning_rate:0' shape=() dtype=float32, numpy=0.0009958991> to 0.0009907887989170372.\n",
            "Epoch 4/50\n",
            "881/882 [============================>.] - ETA: 0s - loss: 1.6081 - accuracy: 0.8595\n",
            "Epoch 00004: val_accuracy did not improve from 0.86027\n",
            "882/882 [==============================] - 18s 20ms/step - loss: 1.6082 - accuracy: 0.8595 - val_loss: 0.6685 - val_accuracy: 0.8596\n",
            "\n",
            "Epoch 00005: CosineAnnealingScheduler setting learning rate <tf.Variable 'learning_rate:0' shape=() dtype=float32, numpy=0.0009907888> to 0.0009836637840879951.\n",
            "Epoch 5/50\n",
            "880/882 [============================>.] - ETA: 0s - loss: 1.5891 - accuracy: 0.8670\n",
            "Epoch 00005: val_accuracy improved from 0.86027 to 0.86489, saving model to /content/checkpoint_entire_best.h5\n",
            "882/882 [==============================] - 18s 21ms/step - loss: 1.5891 - accuracy: 0.8670 - val_loss: 0.5898 - val_accuracy: 0.8649\n",
            "\n",
            "Epoch 00006: CosineAnnealingScheduler setting learning rate <tf.Variable 'learning_rate:0' shape=() dtype=float32, numpy=0.0009836638> to 0.0009745533456318291.\n",
            "Epoch 6/50\n",
            "881/882 [============================>.] - ETA: 0s - loss: 1.5756 - accuracy: 0.8710\n",
            "Epoch 00006: val_accuracy improved from 0.86489 to 0.86564, saving model to /content/checkpoint_entire_best.h5\n",
            "882/882 [==============================] - 18s 21ms/step - loss: 1.5756 - accuracy: 0.8710 - val_loss: 0.6087 - val_accuracy: 0.8656\n",
            "\n",
            "Epoch 00007: CosineAnnealingScheduler setting learning rate <tf.Variable 'learning_rate:0' shape=() dtype=float32, numpy=0.00097455335> to 0.000963494920294338.\n",
            "Epoch 7/50\n",
            "881/882 [============================>.] - ETA: 0s - loss: 1.5643 - accuracy: 0.8758\n",
            "Epoch 00007: val_accuracy did not improve from 0.86564\n",
            "882/882 [==============================] - 18s 21ms/step - loss: 1.5642 - accuracy: 0.8758 - val_loss: 0.5949 - val_accuracy: 0.8652\n",
            "\n",
            "Epoch 00008: CosineAnnealingScheduler setting learning rate <tf.Variable 'learning_rate:0' shape=() dtype=float32, numpy=0.00096349494> to 0.0009505339495172585.\n",
            "Epoch 8/50\n",
            "881/882 [============================>.] - ETA: 0s - loss: 1.5547 - accuracy: 0.8788\n",
            "Epoch 00008: val_accuracy improved from 0.86564 to 0.86702, saving model to /content/checkpoint_entire_best.h5\n",
            "882/882 [==============================] - 18s 21ms/step - loss: 1.5546 - accuracy: 0.8788 - val_loss: 0.6058 - val_accuracy: 0.8670\n",
            "\n",
            "Epoch 00009: CosineAnnealingScheduler setting learning rate <tf.Variable 'learning_rate:0' shape=() dtype=float32, numpy=0.00095053395> to 0.0009357236927096331.\n",
            "Epoch 9/50\n",
            "881/882 [============================>.] - ETA: 0s - loss: 1.5468 - accuracy: 0.8815\n",
            "Epoch 00009: val_accuracy improved from 0.86702 to 0.87473, saving model to /content/checkpoint_entire_best.h5\n",
            "882/882 [==============================] - 18s 21ms/step - loss: 1.5469 - accuracy: 0.8815 - val_loss: 0.5638 - val_accuracy: 0.8747\n",
            "\n",
            "Epoch 00010: CosineAnnealingScheduler setting learning rate <tf.Variable 'learning_rate:0' shape=() dtype=float32, numpy=0.0009357237> to 0.0009191250083934744.\n",
            "Epoch 10/50\n",
            "881/882 [============================>.] - ETA: 0s - loss: 1.5420 - accuracy: 0.8825\n",
            "Epoch 00010: val_accuracy did not improve from 0.87473\n",
            "882/882 [==============================] - 18s 21ms/step - loss: 1.5419 - accuracy: 0.8825 - val_loss: 0.5865 - val_accuracy: 0.8698\n",
            "\n",
            "Epoch 00011: CosineAnnealingScheduler setting learning rate <tf.Variable 'learning_rate:0' shape=() dtype=float32, numpy=0.000919125> to 0.0009008061041230445.\n",
            "Epoch 11/50\n",
            "881/882 [============================>.] - ETA: 0s - loss: 1.5345 - accuracy: 0.8851\n",
            "Epoch 00011: val_accuracy did not improve from 0.87473\n",
            "882/882 [==============================] - 18s 21ms/step - loss: 1.5345 - accuracy: 0.8852 - val_loss: 0.5766 - val_accuracy: 0.8719\n",
            "\n",
            "Epoch 00012: CosineAnnealingScheduler setting learning rate <tf.Variable 'learning_rate:0' shape=() dtype=float32, numpy=0.0009008061> to 0.0008808422562053827.\n",
            "Epoch 12/50\n",
            "881/882 [============================>.] - ETA: 0s - loss: 1.5287 - accuracy: 0.8872\n",
            "Epoch 00012: val_accuracy improved from 0.87473 to 0.87638, saving model to /content/checkpoint_entire_best.h5\n",
            "882/882 [==============================] - 18s 21ms/step - loss: 1.5286 - accuracy: 0.8872 - val_loss: 0.5671 - val_accuracy: 0.8764\n",
            "\n",
            "Epoch 00013: CosineAnnealingScheduler setting learning rate <tf.Variable 'learning_rate:0' shape=() dtype=float32, numpy=0.0008808423> to 0.000859315500373815.\n",
            "Epoch 13/50\n",
            "881/882 [============================>.] - ETA: 0s - loss: 1.5254 - accuracy: 0.8877\n",
            "Epoch 00013: val_accuracy did not improve from 0.87638\n",
            "882/882 [==============================] - 18s 21ms/step - loss: 1.5254 - accuracy: 0.8877 - val_loss: 0.5870 - val_accuracy: 0.8747\n",
            "\n",
            "Epoch 00014: CosineAnnealingScheduler setting learning rate <tf.Variable 'learning_rate:0' shape=() dtype=float32, numpy=0.0008593155> to 0.0008363142946855278.\n",
            "Epoch 14/50\n",
            "881/882 [============================>.] - ETA: 0s - loss: 1.5195 - accuracy: 0.8910\n",
            "Epoch 00014: val_accuracy did not improve from 0.87638\n",
            "882/882 [==============================] - 18s 21ms/step - loss: 1.5195 - accuracy: 0.8910 - val_loss: 0.5742 - val_accuracy: 0.8743\n",
            "\n",
            "Epoch 00015: CosineAnnealingScheduler setting learning rate <tf.Variable 'learning_rate:0' shape=() dtype=float32, numpy=0.0008363143> to 0.0008119331560284375.\n",
            "Epoch 15/50\n",
            "881/882 [============================>.] - ETA: 0s - loss: 1.5146 - accuracy: 0.8933\n",
            "Epoch 00015: val_accuracy did not improve from 0.87638\n",
            "882/882 [==============================] - 18s 21ms/step - loss: 1.5146 - accuracy: 0.8933 - val_loss: 0.6025 - val_accuracy: 0.8730\n",
            "\n",
            "Epoch 00016: CosineAnnealingScheduler setting learning rate <tf.Variable 'learning_rate:0' shape=() dtype=float32, numpy=0.00081193313> to 0.0007862722717310238.\n",
            "Epoch 16/50\n",
            "881/882 [============================>.] - ETA: 0s - loss: 1.5111 - accuracy: 0.8940\n",
            "Epoch 00016: val_accuracy did not improve from 0.87638\n",
            "882/882 [==============================] - 18s 21ms/step - loss: 1.5111 - accuracy: 0.8940 - val_loss: 0.5897 - val_accuracy: 0.8721\n",
            "\n",
            "Epoch 00017: CosineAnnealingScheduler setting learning rate <tf.Variable 'learning_rate:0' shape=() dtype=float32, numpy=0.0007862723> to 0.0007594370878711075.\n",
            "Epoch 17/50\n",
            "882/882 [==============================] - ETA: 0s - loss: 1.5075 - accuracy: 0.8949\n",
            "Epoch 00017: val_accuracy improved from 0.87638 to 0.88037, saving model to /content/checkpoint_entire_best.h5\n",
            "882/882 [==============================] - 18s 21ms/step - loss: 1.5075 - accuracy: 0.8949 - val_loss: 0.5752 - val_accuracy: 0.8804\n",
            "\n",
            "Epoch 00018: CosineAnnealingScheduler setting learning rate <tf.Variable 'learning_rate:0' shape=() dtype=float32, numpy=0.0007594371> to 0.0007315378759752973.\n",
            "Epoch 18/50\n",
            "881/882 [============================>.] - ETA: 0s - loss: 1.5034 - accuracy: 0.8977\n",
            "Epoch 00018: val_accuracy improved from 0.88037 to 0.88053, saving model to /content/checkpoint_entire_best.h5\n",
            "882/882 [==============================] - 19s 21ms/step - loss: 1.5034 - accuracy: 0.8977 - val_loss: 0.5792 - val_accuracy: 0.8805\n",
            "\n",
            "Epoch 00019: CosineAnnealingScheduler setting learning rate <tf.Variable 'learning_rate:0' shape=() dtype=float32, numpy=0.0007315379> to 0.0007026892798896357.\n",
            "Epoch 19/50\n",
            "881/882 [============================>.] - ETA: 0s - loss: 1.4990 - accuracy: 0.9001\n",
            "Epoch 00019: val_accuracy did not improve from 0.88053\n",
            "882/882 [==============================] - 19s 21ms/step - loss: 1.4990 - accuracy: 0.9001 - val_loss: 0.5694 - val_accuracy: 0.8776\n",
            "\n",
            "Epoch 00020: CosineAnnealingScheduler setting learning rate <tf.Variable 'learning_rate:0' shape=() dtype=float32, numpy=0.0007026893> to 0.0006730098446834433.\n",
            "Epoch 20/50\n",
            "881/882 [============================>.] - ETA: 0s - loss: 1.4957 - accuracy: 0.9009\n",
            "Epoch 00020: val_accuracy did not improve from 0.88053\n",
            "882/882 [==============================] - 19s 21ms/step - loss: 1.4957 - accuracy: 0.9009 - val_loss: 0.5506 - val_accuracy: 0.8765\n",
            "\n",
            "Epoch 00021: CosineAnnealingScheduler setting learning rate <tf.Variable 'learning_rate:0' shape=() dtype=float32, numpy=0.00067300984> to 0.0006426215295222007.\n",
            "Epoch 21/50\n",
            "881/882 [============================>.] - ETA: 0s - loss: 1.4920 - accuracy: 0.9029\n",
            "Epoch 00021: val_accuracy did not improve from 0.88053\n",
            "882/882 [==============================] - 18s 21ms/step - loss: 1.4921 - accuracy: 0.9029 - val_loss: 0.5638 - val_accuracy: 0.8801\n",
            "\n",
            "Epoch 00022: CosineAnnealingScheduler setting learning rate <tf.Variable 'learning_rate:0' shape=() dtype=float32, numpy=0.00064262154> to 0.0006116492065111791.\n",
            "Epoch 22/50\n",
            "881/882 [============================>.] - ETA: 0s - loss: 1.4882 - accuracy: 0.9046\n",
            "Epoch 00022: val_accuracy improved from 0.88053 to 0.88356, saving model to /content/checkpoint_entire_best.h5\n",
            "882/882 [==============================] - 18s 21ms/step - loss: 1.4882 - accuracy: 0.9046 - val_loss: 0.5683 - val_accuracy: 0.8836\n",
            "\n",
            "Epoch 00023: CosineAnnealingScheduler setting learning rate <tf.Variable 'learning_rate:0' shape=() dtype=float32, numpy=0.0006116492> to 0.0005802201475691731.\n",
            "Epoch 23/50\n",
            "881/882 [============================>.] - ETA: 0s - loss: 1.4845 - accuracy: 0.9057\n",
            "Epoch 00023: val_accuracy did not improve from 0.88356\n",
            "882/882 [==============================] - 19s 21ms/step - loss: 1.4846 - accuracy: 0.9057 - val_loss: 0.5657 - val_accuracy: 0.8804\n",
            "\n",
            "Epoch 00024: CosineAnnealingScheduler setting learning rate <tf.Variable 'learning_rate:0' shape=() dtype=float32, numpy=0.00058022013> to 0.0005484635014408872.\n",
            "Epoch 24/50\n",
            "881/882 [============================>.] - ETA: 0s - loss: 1.4820 - accuracy: 0.9070\n",
            "Epoch 00024: val_accuracy did not improve from 0.88356\n",
            "882/882 [==============================] - 19s 21ms/step - loss: 1.4820 - accuracy: 0.9069 - val_loss: 0.5629 - val_accuracy: 0.8805\n",
            "\n",
            "Epoch 00025: CosineAnnealingScheduler setting learning rate <tf.Variable 'learning_rate:0' shape=() dtype=float32, numpy=0.0005484635> to 0.000516509762997042.\n",
            "Epoch 25/50\n",
            "881/882 [============================>.] - ETA: 0s - loss: 1.4783 - accuracy: 0.9089\n",
            "Epoch 00025: val_accuracy did not improve from 0.88356\n",
            "882/882 [==============================] - 19s 21ms/step - loss: 1.4782 - accuracy: 0.9089 - val_loss: 0.5685 - val_accuracy: 0.8818\n",
            "\n",
            "Epoch 00026: CosineAnnealingScheduler setting learning rate <tf.Variable 'learning_rate:0' shape=() dtype=float32, numpy=0.00051650975> to 0.0004844902370029583.\n",
            "Epoch 26/50\n",
            "881/882 [============================>.] - ETA: 0s - loss: 1.4747 - accuracy: 0.9109\n",
            "Epoch 00026: val_accuracy did not improve from 0.88356\n",
            "882/882 [==============================] - 19s 21ms/step - loss: 1.4747 - accuracy: 0.9109 - val_loss: 0.5727 - val_accuracy: 0.8807\n",
            "\n",
            "Epoch 00027: CosineAnnealingScheduler setting learning rate <tf.Variable 'learning_rate:0' shape=() dtype=float32, numpy=0.00048449024> to 0.000452536498559113.\n",
            "Epoch 27/50\n",
            "881/882 [============================>.] - ETA: 0s - loss: 1.4715 - accuracy: 0.9127\n",
            "Epoch 00027: val_accuracy did not improve from 0.88356\n",
            "882/882 [==============================] - 19s 21ms/step - loss: 1.4716 - accuracy: 0.9126 - val_loss: 0.5609 - val_accuracy: 0.8809\n",
            "\n",
            "Epoch 00028: CosineAnnealingScheduler setting learning rate <tf.Variable 'learning_rate:0' shape=() dtype=float32, numpy=0.0004525365> to 0.00042077985243082713.\n",
            "Epoch 28/50\n",
            "880/882 [============================>.] - ETA: 0s - loss: 1.4697 - accuracy: 0.9129\n",
            "Epoch 00028: val_accuracy did not improve from 0.88356\n",
            "882/882 [==============================] - 19s 21ms/step - loss: 1.4698 - accuracy: 0.9129 - val_loss: 0.5550 - val_accuracy: 0.8795\n",
            "\n",
            "Epoch 00029: CosineAnnealingScheduler setting learning rate <tf.Variable 'learning_rate:0' shape=() dtype=float32, numpy=0.00042077986> to 0.00038935079348882104.\n",
            "Epoch 29/50\n",
            "881/882 [============================>.] - ETA: 0s - loss: 1.4658 - accuracy: 0.9149\n",
            "Epoch 00029: val_accuracy did not improve from 0.88356\n",
            "882/882 [==============================] - 19s 21ms/step - loss: 1.4658 - accuracy: 0.9149 - val_loss: 0.5628 - val_accuracy: 0.8822\n",
            "\n",
            "Epoch 00030: CosineAnnealingScheduler setting learning rate <tf.Variable 'learning_rate:0' shape=() dtype=float32, numpy=0.00038935078> to 0.00035837847047779937.\n",
            "Epoch 30/50\n",
            "881/882 [============================>.] - ETA: 0s - loss: 1.4642 - accuracy: 0.9158\n",
            "Epoch 00030: val_accuracy did not improve from 0.88356\n",
            "882/882 [==============================] - 19s 21ms/step - loss: 1.4642 - accuracy: 0.9158 - val_loss: 0.5628 - val_accuracy: 0.8812\n",
            "\n",
            "Epoch 00031: CosineAnnealingScheduler setting learning rate <tf.Variable 'learning_rate:0' shape=() dtype=float32, numpy=0.00035837846> to 0.000327990155316557.\n",
            "Epoch 31/50\n",
            "881/882 [============================>.] - ETA: 0s - loss: 1.4605 - accuracy: 0.9184\n",
            "Epoch 00031: val_accuracy did not improve from 0.88356\n",
            "882/882 [==============================] - 19s 21ms/step - loss: 1.4604 - accuracy: 0.9184 - val_loss: 0.5677 - val_accuracy: 0.8789\n",
            "\n",
            "Epoch 00032: CosineAnnealingScheduler setting learning rate <tf.Variable 'learning_rate:0' shape=() dtype=float32, numpy=0.00032799016> to 0.0002983107201103644.\n",
            "Epoch 32/50\n",
            "881/882 [============================>.] - ETA: 0s - loss: 1.4581 - accuracy: 0.9186\n",
            "Epoch 00032: val_accuracy did not improve from 0.88356\n",
            "882/882 [==============================] - 19s 21ms/step - loss: 1.4581 - accuracy: 0.9186 - val_loss: 0.5518 - val_accuracy: 0.8829\n",
            "\n",
            "Epoch 00033: CosineAnnealingScheduler setting learning rate <tf.Variable 'learning_rate:0' shape=() dtype=float32, numpy=0.0002983107> to 0.00026946212402470293.\n",
            "Epoch 33/50\n",
            "881/882 [============================>.] - ETA: 0s - loss: 1.4554 - accuracy: 0.9204\n",
            "Epoch 00033: val_accuracy did not improve from 0.88356\n",
            "882/882 [==============================] - 19s 21ms/step - loss: 1.4555 - accuracy: 0.9203 - val_loss: 0.5647 - val_accuracy: 0.8828\n",
            "\n",
            "Epoch 00034: CosineAnnealingScheduler setting learning rate <tf.Variable 'learning_rate:0' shape=() dtype=float32, numpy=0.00026946212> to 0.00024156291212889275.\n",
            "Epoch 34/50\n",
            "882/882 [==============================] - ETA: 0s - loss: 1.4524 - accuracy: 0.9221\n",
            "Epoch 00034: val_accuracy did not improve from 0.88356\n",
            "882/882 [==============================] - 19s 21ms/step - loss: 1.4524 - accuracy: 0.9221 - val_loss: 0.5618 - val_accuracy: 0.8831\n",
            "\n",
            "Epoch 00035: CosineAnnealingScheduler setting learning rate <tf.Variable 'learning_rate:0' shape=() dtype=float32, numpy=0.00024156291> to 0.00021472772826897622.\n",
            "Epoch 35/50\n",
            "860/882 [============================>.] - ETA: 0s - loss: 1.4509 - accuracy: 0.9222"
          ],
          "name": "stdout"
        }
      ]
    },
    {
      "cell_type": "code",
      "metadata": {
        "id": "pZ_QPnMCDe0t",
        "colab_type": "code",
        "colab": {}
      },
      "source": [
        "import matplotlib.pyplot as plt\n",
        "\n",
        "# Accuracy Visualization\n",
        "plt.plot(hist.history['accuracy'])\n",
        "plt.plot(hist.history['val_accuracy'])\n",
        "plt.title('Model Accuracy')\n",
        "plt.xlabel('Epoch')\n",
        "plt.ylabel('Accuracy')\n",
        "plt.legend(['Train','Test'],loc='upper_left')\n",
        "plt.show()\n",
        "\n",
        "# Loss Visualization\n",
        "plt.plot(hist.history['loss'])\n",
        "plt.plot(hist.history['val_loss'])\n",
        "plt.title('Model loss')\n",
        "plt.xlabel('Epoch')\n",
        "plt.ylabel('Loss')\n",
        "plt.legend(['Train','Test'],loc='upper_left')\n",
        "plt.show()"
      ],
      "execution_count": null,
      "outputs": []
    },
    {
      "cell_type": "markdown",
      "metadata": {
        "colab_type": "text",
        "id": "QR9WUYXxqtfR"
      },
      "source": [
        "# **4. 모델 저장**"
      ]
    },
    {
      "cell_type": "code",
      "metadata": {
        "colab_type": "code",
        "id": "Wi9yznz4qvzK",
        "colab": {}
      },
      "source": [
        "save_path = '/content/'\n",
        "team_name = CONFIG['team_name']\n",
        "\n",
        "# Load Best Acc Model\n",
        "model.load_weights(save_path + 'checkpoint_entire_best.h5')\n",
        "\n",
        "# 트레이닝된 전체 모델을 저장합니다.\n",
        "model.save(save_path +  'model_entire_'+ team_name + '.h5')"
      ],
      "execution_count": null,
      "outputs": []
    },
    {
      "cell_type": "markdown",
      "metadata": {
        "colab_type": "text",
        "id": "4aPbgI-c-Kj8"
      },
      "source": [
        "# **5. 모델 로드 및 평가**"
      ]
    },
    {
      "cell_type": "code",
      "metadata": {
        "colab_type": "code",
        "id": "y7WONVxH-Kt6",
        "colab": {}
      },
      "source": [
        "save_path = '/content/'\n",
        "team_name = CONFIG['team_name']\n",
        "\n",
        "model = keras.models.load_model(save_path + 'model_entire_' + team_name + '.h5')\n",
        "\n",
        "model.evaluate(test_generator)"
      ],
      "execution_count": null,
      "outputs": []
    }
  ]
}