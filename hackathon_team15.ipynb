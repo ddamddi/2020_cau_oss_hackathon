{
  "nbformat": 4,
  "nbformat_minor": 0,
  "metadata": {
    "accelerator": "GPU",
    "colab": {
      "name": "hackathon_team15.ipynb",
      "provenance": [],
      "collapsed_sections": [
        "1AosAX9DXOlc"
      ],
      "include_colab_link": true
    },
    "kernelspec": {
      "display_name": "Python 3",
      "language": "python",
      "name": "python3"
    },
    "language_info": {
      "codemirror_mode": {
        "name": "ipython",
        "version": 3
      },
      "file_extension": ".py",
      "mimetype": "text/x-python",
      "name": "python",
      "nbconvert_exporter": "python",
      "pygments_lexer": "ipython3",
      "version": "3.7.4"
    },
    "widgets": {
      "application/vnd.jupyter.widget-state+json": {
        "3e5c858da9234415b3cae83498e6ea9f": {
          "model_module": "@jupyter-widgets/controls",
          "model_name": "HBoxModel",
          "state": {
            "_view_name": "HBoxView",
            "_dom_classes": [],
            "_model_name": "HBoxModel",
            "_view_module": "@jupyter-widgets/controls",
            "_model_module_version": "1.5.0",
            "_view_count": null,
            "_view_module_version": "1.5.0",
            "box_style": "",
            "layout": "IPY_MODEL_2fbea5ea97504ec795f842132ec3de03",
            "_model_module": "@jupyter-widgets/controls",
            "children": [
              "IPY_MODEL_76cf54308ac440feab03f99ecd02a643",
              "IPY_MODEL_fc2150e36a754f44a1ab12ef996960f6"
            ]
          }
        },
        "2fbea5ea97504ec795f842132ec3de03": {
          "model_module": "@jupyter-widgets/base",
          "model_name": "LayoutModel",
          "state": {
            "_view_name": "LayoutView",
            "grid_template_rows": null,
            "right": null,
            "justify_content": null,
            "_view_module": "@jupyter-widgets/base",
            "overflow": null,
            "_model_module_version": "1.2.0",
            "_view_count": null,
            "flex_flow": null,
            "width": null,
            "min_width": null,
            "border": null,
            "align_items": null,
            "bottom": null,
            "_model_module": "@jupyter-widgets/base",
            "top": null,
            "grid_column": null,
            "overflow_y": null,
            "overflow_x": null,
            "grid_auto_flow": null,
            "grid_area": null,
            "grid_template_columns": null,
            "flex": null,
            "_model_name": "LayoutModel",
            "justify_items": null,
            "grid_row": null,
            "max_height": null,
            "align_content": null,
            "visibility": null,
            "align_self": null,
            "height": null,
            "min_height": null,
            "padding": null,
            "grid_auto_rows": null,
            "grid_gap": null,
            "max_width": null,
            "order": null,
            "_view_module_version": "1.2.0",
            "grid_template_areas": null,
            "object_position": null,
            "object_fit": null,
            "grid_auto_columns": null,
            "margin": null,
            "display": null,
            "left": null
          }
        },
        "76cf54308ac440feab03f99ecd02a643": {
          "model_module": "@jupyter-widgets/controls",
          "model_name": "FloatProgressModel",
          "state": {
            "_view_name": "ProgressView",
            "style": "IPY_MODEL_4f33ad377d3b4eb1b975e1793d0eb5fe",
            "_dom_classes": [],
            "description": "100%",
            "_model_name": "FloatProgressModel",
            "bar_style": "success",
            "max": 112800,
            "_view_module": "@jupyter-widgets/controls",
            "_model_module_version": "1.5.0",
            "value": 112800,
            "_view_count": null,
            "_view_module_version": "1.5.0",
            "orientation": "horizontal",
            "min": 0,
            "description_tooltip": null,
            "_model_module": "@jupyter-widgets/controls",
            "layout": "IPY_MODEL_d28f6a2b892a420c9ff9bb9d5bb47841"
          }
        },
        "fc2150e36a754f44a1ab12ef996960f6": {
          "model_module": "@jupyter-widgets/controls",
          "model_name": "HTMLModel",
          "state": {
            "_view_name": "HTMLView",
            "style": "IPY_MODEL_e22fa180f0934fde929e14c2ef9b8a1c",
            "_dom_classes": [],
            "description": "",
            "_model_name": "HTMLModel",
            "placeholder": "​",
            "_view_module": "@jupyter-widgets/controls",
            "_model_module_version": "1.5.0",
            "value": " 112800/112800 [00:00&lt;00:00, 177768.28it/s]",
            "_view_count": null,
            "_view_module_version": "1.5.0",
            "description_tooltip": null,
            "_model_module": "@jupyter-widgets/controls",
            "layout": "IPY_MODEL_33cf05a829c9485095beb4116fbd1ecd"
          }
        },
        "4f33ad377d3b4eb1b975e1793d0eb5fe": {
          "model_module": "@jupyter-widgets/controls",
          "model_name": "ProgressStyleModel",
          "state": {
            "_view_name": "StyleView",
            "_model_name": "ProgressStyleModel",
            "description_width": "initial",
            "_view_module": "@jupyter-widgets/base",
            "_model_module_version": "1.5.0",
            "_view_count": null,
            "_view_module_version": "1.2.0",
            "bar_color": null,
            "_model_module": "@jupyter-widgets/controls"
          }
        },
        "d28f6a2b892a420c9ff9bb9d5bb47841": {
          "model_module": "@jupyter-widgets/base",
          "model_name": "LayoutModel",
          "state": {
            "_view_name": "LayoutView",
            "grid_template_rows": null,
            "right": null,
            "justify_content": null,
            "_view_module": "@jupyter-widgets/base",
            "overflow": null,
            "_model_module_version": "1.2.0",
            "_view_count": null,
            "flex_flow": null,
            "width": null,
            "min_width": null,
            "border": null,
            "align_items": null,
            "bottom": null,
            "_model_module": "@jupyter-widgets/base",
            "top": null,
            "grid_column": null,
            "overflow_y": null,
            "overflow_x": null,
            "grid_auto_flow": null,
            "grid_area": null,
            "grid_template_columns": null,
            "flex": null,
            "_model_name": "LayoutModel",
            "justify_items": null,
            "grid_row": null,
            "max_height": null,
            "align_content": null,
            "visibility": null,
            "align_self": null,
            "height": null,
            "min_height": null,
            "padding": null,
            "grid_auto_rows": null,
            "grid_gap": null,
            "max_width": null,
            "order": null,
            "_view_module_version": "1.2.0",
            "grid_template_areas": null,
            "object_position": null,
            "object_fit": null,
            "grid_auto_columns": null,
            "margin": null,
            "display": null,
            "left": null
          }
        },
        "e22fa180f0934fde929e14c2ef9b8a1c": {
          "model_module": "@jupyter-widgets/controls",
          "model_name": "DescriptionStyleModel",
          "state": {
            "_view_name": "StyleView",
            "_model_name": "DescriptionStyleModel",
            "description_width": "",
            "_view_module": "@jupyter-widgets/base",
            "_model_module_version": "1.5.0",
            "_view_count": null,
            "_view_module_version": "1.2.0",
            "_model_module": "@jupyter-widgets/controls"
          }
        },
        "33cf05a829c9485095beb4116fbd1ecd": {
          "model_module": "@jupyter-widgets/base",
          "model_name": "LayoutModel",
          "state": {
            "_view_name": "LayoutView",
            "grid_template_rows": null,
            "right": null,
            "justify_content": null,
            "_view_module": "@jupyter-widgets/base",
            "overflow": null,
            "_model_module_version": "1.2.0",
            "_view_count": null,
            "flex_flow": null,
            "width": null,
            "min_width": null,
            "border": null,
            "align_items": null,
            "bottom": null,
            "_model_module": "@jupyter-widgets/base",
            "top": null,
            "grid_column": null,
            "overflow_y": null,
            "overflow_x": null,
            "grid_auto_flow": null,
            "grid_area": null,
            "grid_template_columns": null,
            "flex": null,
            "_model_name": "LayoutModel",
            "justify_items": null,
            "grid_row": null,
            "max_height": null,
            "align_content": null,
            "visibility": null,
            "align_self": null,
            "height": null,
            "min_height": null,
            "padding": null,
            "grid_auto_rows": null,
            "grid_gap": null,
            "max_width": null,
            "order": null,
            "_view_module_version": "1.2.0",
            "grid_template_areas": null,
            "object_position": null,
            "object_fit": null,
            "grid_auto_columns": null,
            "margin": null,
            "display": null,
            "left": null
          }
        }
      }
    }
  },
  "cells": [
    {
      "cell_type": "markdown",
      "metadata": {
        "id": "view-in-github",
        "colab_type": "text"
      },
      "source": [
        "<a href=\"https://colab.research.google.com/github/ddamddi/2020_cau_oss_hackathon/blob/master/hackathon_team15.ipynb\" target=\"_parent\"><img src=\"https://colab.research.google.com/assets/colab-badge.svg\" alt=\"Open In Colab\"/></a>"
      ]
    },
    {
      "cell_type": "markdown",
      "metadata": {
        "colab_type": "text",
        "id": "1AosAX9DXOlc"
      },
      "source": [
        "# **0. 해커톤 진행 주의사항**\n",
        "\n",
        "**1)  개발 관련 주의사항**\n",
        "*   [1. 초기 환경 설정]은 절대 수정하지 말 것\n",
        "*   모든 구현은 [2. 데이터 전처리] 및 [3.모델 생성]에서만 진행\n",
        "*   [4. 모델 저장]에서 team_name 변수 변경 (예.`team_name = 'team01'`)\n",
        " *    트레이닝 중간에 checkpoint를 활용하여 모델을 저장한 경우에도 파일 이름 양식 통일 필수\n",
        "*   Colab 사용중 실수로 데이터 손실이 발생할 수도 있으니 중간 결과값을 github에 업로드 \n",
        " *    \"런타임->모든 런타임 재설정\"은 절대 누르지 말 것 (저장한 모델 데이터가 모두 삭제됨)\n",
        "*   효율적인 구현 및 테스팅을 위해 GPU 가속 기능 활성화\n",
        " *    \"런타임 -> 런타임 유형변경 -> 하드웨어 가속기 -> GPU 설정\"\n",
        "*   주석을 최대한 자세히 작성\n",
        "*   Keras API 관련하여 [Keras Documentation](https://keras.io/) 참조\n",
        "\n",
        "**2) 제출 관련 주의사항**\n",
        "*  제출물\n",
        " *  소스코드 (hackathon_teamXX.ipynb)\n",
        " *  컴파일된 모델 파일 (model_entire_teamXX.h5)\n",
        " *  모델 발표 자료 \n",
        "* 제출 기한: **오후 5시 (단, 발표자료는 11시)**\n",
        "* 제출 방법: [GitHub README](https://github.com/cauosshackathonta/2020_cau_oss_hackathon/) 참조\n",
        "\n",
        " \n",
        "**3) 평가 관련 주의사항**\n",
        "*  모델 성능 = 테스트 데이터 셋 분류 정확도\n",
        " *  model.evaluate(x_test, y_test)\n",
        "*  제출된 모델들의 테스트 데이터 셋 분류 정확도를 기준으로 수상작 결정\n",
        "*  수상 후보들에 대해서는 소스코드를 기반으로 모델 재검증 \n",
        " \n",
        "**4) 수상 실격 사유**\n",
        "*  유사한 소스코드 or 알고리즘이 적발될 경우\n",
        "*  소스코드와 제출된 모델이 상이한 경우\n",
        "*  개발 관련 주의사항을 지키지 않은 경우\n",
        " *  예: [초기 환경 설정]을 수정한 경우\n",
        "*  데이터 셋을 변조한 경우\n",
        " *  예. 테스트 데이터 셋을 트레이닝 데이터 셋에 포함하여 모델 생성 \n",
        "*  주석이 소스코드와 맞지 않거나 미비할 경우\n",
        "\n",
        "\n",
        "\n",
        "\n"
      ]
    },
    {
      "cell_type": "markdown",
      "metadata": {
        "colab_type": "text",
        "id": "67lwEXhUqys1"
      },
      "source": [
        "# **1. 초기 환경 설정**\n",
        "\n"
      ]
    },
    {
      "cell_type": "code",
      "metadata": {
        "colab_type": "code",
        "id": "Ms5PBBJ1qSC6",
        "colab": {}
      },
      "source": [
        "from __future__ import absolute_import, division, print_function, unicode_literals, unicode_literals\n",
        "\n",
        "# tensorflow와 tf.keras 및 관련 라이브러리 임포트\n",
        "import tensorflow as tf\n",
        "from tensorflow import keras\n",
        "from keras.utils import np_utils\n",
        "\n",
        "import numpy as np\n",
        "\n",
        "# 데이터셋 다운로드\n",
        "check = !if [ -d 'dataset/' ]; then echo \"1\" ; else echo \"0\"; fi\n",
        "if (check[0] is '0' ):\n",
        "  !mkdir dataset\n",
        "  !wget 'https://www.itl.nist.gov/iaui/vip/cs_links/EMNIST/matlab.zip'\n",
        "  !unzip matlab.zip -d /content/dataset\n",
        "\n",
        "# 데이터셋 로드\n",
        "from scipy import io as spio\n",
        "emnist = spio.loadmat(\"/content/dataset/matlab/emnist-balanced.mat\")\n",
        "\n",
        "x_train = emnist[\"dataset\"][0][0][0][0][0][0]\n",
        "y_train = emnist[\"dataset\"][0][0][0][0][0][1]\n",
        "\n",
        "x_test = emnist[\"dataset\"][0][0][1][0][0][0]\n",
        "y_test = emnist[\"dataset\"][0][0][1][0][0][1]\n",
        "\n",
        "# # 분류를 위해 클래스 벡터를 바이너리 매트릭스로 변환\n",
        "y_train = np_utils.to_categorical(y_train)\n",
        "y_test = np_utils.to_categorical(y_test)\n",
        "\n",
        "# 데이터 28x28 이미지화\n",
        "x_train = x_train.reshape(x_train.shape[0], 28, 28, 1).astype('float32')\n",
        "x_test = x_test.reshape(x_test.shape[0], 28, 28, 1).astype('float32')\n",
        "\n",
        "# 총 클래스 개수\n",
        "num_classes = y_test.shape[1]\n",
        "input_shape = x_test.shape[1:]"
      ],
      "execution_count": 1,
      "outputs": []
    },
    {
      "cell_type": "markdown",
      "metadata": {
        "colab_type": "text",
        "id": "A-YjppJpXBO9"
      },
      "source": [
        "# **2. 데이터 전처리**\n",
        "\n"
      ]
    },
    {
      "cell_type": "code",
      "metadata": {
        "id": "SXz2t_Bx7kzy",
        "colab_type": "code",
        "colab": {}
      },
      "source": [
        "from keras.preprocessing.image import ImageDataGenerator\n",
        "from skimage.transform import resize\n",
        "from tqdm.notebook import tqdm"
      ],
      "execution_count": 2,
      "outputs": []
    },
    {
      "cell_type": "code",
      "metadata": {
        "id": "sMeD2ezlWa0m",
        "colab_type": "code",
        "colab": {}
      },
      "source": [
        "def smooth_labels(labels, factor=0.1):\n",
        "  for idx in tqdm(range(len(labels))):\n",
        "    labels[idx] *= (1-factor)\n",
        "    labels[idx] += (factor / labels[idx].shape[0])\n",
        "  return labels"
      ],
      "execution_count": 3,
      "outputs": []
    },
    {
      "cell_type": "code",
      "metadata": {
        "id": "hqQ35D0kCCiC",
        "colab_type": "code",
        "colab": {}
      },
      "source": [
        "CONFIG = {\n",
        "    'team_name': 'team15',\n",
        "    'filepath': '/content/',\n",
        "    'augmentations': {\n",
        "      'label_smoothing' : True,\n",
        "      'label_smoothing_factor': 0.2,\n",
        "\n",
        "      'cutout' : True,\n",
        "    },\n",
        "\n",
        "    'epoch': 50,\n",
        "    'batch_size': 128\n",
        "}"
      ],
      "execution_count": 4,
      "outputs": []
    },
    {
      "cell_type": "code",
      "metadata": {
        "id": "BeO1oaTWLZxz",
        "colab_type": "code",
        "colab": {
          "base_uri": "https://localhost:8080/",
          "height": 87
        },
        "outputId": "1fb69291-63d5-4b5f-f827-5278d087c77c"
      },
      "source": [
        "print(x_train.shape)\n",
        "print(y_train.shape)\n",
        "\n",
        "print(x_test.shape)\n",
        "print(y_test.shape)"
      ],
      "execution_count": 5,
      "outputs": [
        {
          "output_type": "stream",
          "text": [
            "(112800, 28, 28, 1)\n",
            "(112800, 47)\n",
            "(18800, 28, 28, 1)\n",
            "(18800, 47)\n"
          ],
          "name": "stdout"
        }
      ]
    },
    {
      "cell_type": "code",
      "metadata": {
        "id": "WGT5WMgR1ax7",
        "colab_type": "code",
        "colab": {}
      },
      "source": [
        "X_MEAN = 44.651615\n",
        "X_STD  = 84.974724\n",
        "\n",
        "def mean_std_normalization(x):\n",
        "  x -= X_MEAN\n",
        "  x /= X_STD\n",
        "  return x"
      ],
      "execution_count": 6,
      "outputs": []
    },
    {
      "cell_type": "code",
      "metadata": {
        "id": "q-T6UBwknIUE",
        "colab_type": "code",
        "colab": {}
      },
      "source": [
        "def random_erasing(input_img, p=0.5, s_l=0.02, s_h=0.4, r_1=0.3, r_2=1/0.3, v_l=0, v_h=255):\n",
        "  prob = np.random.rand()\n",
        "\n",
        "  if prob > p:\n",
        "    return input_img\n",
        "  \n",
        "  img_h = img_w = 28\n",
        "  while True:\n",
        "    s = np.random.uniform(s_l, s_h) * img_h * img_w\n",
        "    r = np.random.uniform(r_1, r_2)\n",
        "    w = int(np.sqrt(s / r))\n",
        "    h = int(np.sqrt(s * r))\n",
        "    left = np.random.randint(0, img_w)\n",
        "    top = np.random.randint(0, img_h)\n",
        "\n",
        "    if left + w <= img_w and top + h <= img_h:\n",
        "        break\n",
        "\n",
        "  c = np.random.uniform(v_l, v_h)\n",
        "\n",
        "  input_img[top:top+h, left:left+w] = c\n",
        "\n",
        "  return input_img"
      ],
      "execution_count": 7,
      "outputs": []
    },
    {
      "cell_type": "code",
      "metadata": {
        "id": "TY6VrqFZW7iA",
        "colab_type": "code",
        "colab": {
          "base_uri": "https://localhost:8080/",
          "height": 66,
          "referenced_widgets": [
            "3e5c858da9234415b3cae83498e6ea9f",
            "2fbea5ea97504ec795f842132ec3de03",
            "76cf54308ac440feab03f99ecd02a643",
            "fc2150e36a754f44a1ab12ef996960f6",
            "4f33ad377d3b4eb1b975e1793d0eb5fe",
            "d28f6a2b892a420c9ff9bb9d5bb47841",
            "e22fa180f0934fde929e14c2ef9b8a1c",
            "33cf05a829c9485095beb4116fbd1ecd"
          ]
        },
        "outputId": "dd0accac-d1d6-41c2-f1df-a8824e74d072"
      },
      "source": [
        "if CONFIG['augmentations']['label_smoothing']:\n",
        "  y_train = smooth_labels(y_train, factor=CONFIG['augmentations']['label_smoothing_factor'])"
      ],
      "execution_count": 8,
      "outputs": [
        {
          "output_type": "display_data",
          "data": {
            "application/vnd.jupyter.widget-view+json": {
              "model_id": "3e5c858da9234415b3cae83498e6ea9f",
              "version_minor": 0,
              "version_major": 2
            },
            "text/plain": [
              "HBox(children=(FloatProgress(value=0.0, max=112800.0), HTML(value='')))"
            ]
          },
          "metadata": {
            "tags": []
          }
        },
        {
          "output_type": "stream",
          "text": [
            "\n"
          ],
          "name": "stdout"
        }
      ]
    },
    {
      "cell_type": "code",
      "metadata": {
        "id": "TQ7rPOCqsZYj",
        "colab_type": "code",
        "colab": {}
      },
      "source": [
        "def preprocessing_input(x):\n",
        "  x = random_erasing(x)\n",
        "  x = mean_std_normalization(x)\n",
        "  return x"
      ],
      "execution_count": 9,
      "outputs": []
    },
    {
      "cell_type": "code",
      "metadata": {
        "colab_type": "code",
        "id": "QZ9KWTBP6AI1",
        "colab": {
          "base_uri": "https://localhost:8080/",
          "height": 34
        },
        "outputId": "138ccbf1-d7f2-4b72-85e7-93e207cfc1e2"
      },
      "source": [
        "if CONFIG['augmentations']['cutout']:\n",
        "  preprocessing_func = preprocessing_input\n",
        "  print('using mean_std_normalization + cutout')\n",
        "else:\n",
        "  preprocessing_func = mean_std_normalization\n",
        "  print('using mean_std_normalization')\n",
        "\n",
        "train_datagen = ImageDataGenerator(\n",
        "    preprocessing_function=preprocessing_func,\n",
        "    # horizontal_flip=True,\n",
        "    width_shift_range=0.1,\n",
        "    height_shift_range=0.1,\n",
        "    zoom_range=0.2,\n",
        "    # brightness_range=[0.2,1.0],\n",
        "    # rotation_range=30,\n",
        ")\n",
        "\n",
        "train_generator = train_datagen.flow(\n",
        "    x=x_train,\n",
        "    y=y_train,\n",
        "    shuffle=True,\n",
        "    batch_size=CONFIG['batch_size'],\n",
        ")"
      ],
      "execution_count": 10,
      "outputs": [
        {
          "output_type": "stream",
          "text": [
            "using mean_std_normalization + cutout\n"
          ],
          "name": "stdout"
        }
      ]
    },
    {
      "cell_type": "code",
      "metadata": {
        "id": "8OO9U2Tt9h60",
        "colab_type": "code",
        "colab": {}
      },
      "source": [
        "test_datagen = ImageDataGenerator(preprocessing_function=mean_std_normalization)\n",
        "test_generator = test_datagen.flow(x=x_test, y=y_test, batch_size=CONFIG['batch_size'],)"
      ],
      "execution_count": 24,
      "outputs": []
    },
    {
      "cell_type": "markdown",
      "metadata": {
        "colab_type": "text",
        "id": "v-lo-O1yiFpY"
      },
      "source": [
        "# **3. 모델 생성**"
      ]
    },
    {
      "cell_type": "code",
      "metadata": {
        "id": "Hfk_h7vbzlpq",
        "colab_type": "code",
        "colab": {}
      },
      "source": [
        "from keras.models import Sequential\n",
        "from keras.layers import MaxPooling2D, Flatten, Dense, Conv2D, BatchNormalization, Dropout\n",
        "from keras.callbacks import ModelCheckpoint, ReduceLROnPlateau, LearningRateScheduler, EarlyStopping\n",
        "from keras.activations import relu\n",
        "from keras.layers.advanced_activations import LeakyReLU\n",
        "from keras.optimizers import SGD, Adam\n",
        "import math\n",
        "from keras.callbacks import Callback\n",
        "from keras import backend as K"
      ],
      "execution_count": 12,
      "outputs": []
    },
    {
      "cell_type": "code",
      "metadata": {
        "id": "McE5qQ90P7HE",
        "colab_type": "code",
        "colab": {}
      },
      "source": [
        "class ConsineAnnealingScheduler(Callback):\n",
        "  def __init__(self, T_max, eta_max, eta_min=0, verbose=1):\n",
        "    super(ConsineAnnealingScheduler, self).__init__()\n",
        "    self.T_max = T_max\n",
        "    self.eta_max = eta_max\n",
        "    self.eta_min = eta_min\n",
        "    self.verbose = verbose\n",
        "  \n",
        "  def on_epoch_begin(self, epoch, logs=None):\n",
        "    lr = self.eta_min + (self.eta_max - self.eta_min) * (1 + math.cos(math.pi * epoch / (self.T_max - 1))) / 2\n",
        "    if self.verbose > 0:\n",
        "      print('\\nEpoch %05d: CosineAnnealingScheduler setting learning rate %s to %s.' % (epoch + 1, self.model.optimizer.lr, lr))\n",
        "    K.set_value(self.model.optimizer.lr, lr)\n",
        "\n",
        "  def on_epoch_end(self, epoch, logs=None):\n",
        "    logs = logs or {}\n",
        "    logs['lr'] = K.get_value(self.model.optimizer.lr)"
      ],
      "execution_count": 13,
      "outputs": []
    },
    {
      "cell_type": "code",
      "metadata": {
        "id": "zHcBrZE5FWTe",
        "colab_type": "code",
        "colab": {}
      },
      "source": [
        "def callbacks():\n",
        "  callbacks = [\n",
        "            # ReduceLROnPlateau(monitor='val_loss', factor=0.1, patience=7, verbose=1, mode='auto'),\n",
        "            ConsineAnnealingScheduler(T_max=CONFIG['epoch'], eta_max=1e-3, eta_min=1e-6),\n",
        "            ModelCheckpoint(\n",
        "                filepath='/content/checkpoint_entire_best.h5',\n",
        "                monitor=\"val_accuracy\",\n",
        "                verbose=1,\n",
        "                save_best_only=True,\n",
        "                save_weights_only=True,\n",
        "                mode=\"auto\",\n",
        "                save_freq=\"epoch\"\n",
        "            )]\n",
        "\n",
        "  return callbacks"
      ],
      "execution_count": 14,
      "outputs": []
    },
    {
      "cell_type": "code",
      "metadata": {
        "id": "4GuDQ6vu_vc6",
        "colab_type": "code",
        "colab": {}
      },
      "source": [
        "def optimizer() -> keras.optimizers.Optimizer:\n",
        "  return Adam(lr=1e-3)"
      ],
      "execution_count": 15,
      "outputs": []
    },
    {
      "cell_type": "code",
      "metadata": {
        "colab_type": "code",
        "id": "DZP4eRmRqgRp",
        "colab": {}
      },
      "source": [
        "# 순차 모델 생성 (가장 기본구조)\n",
        "model = Sequential()\n",
        "\n",
        "# 28x28x1 -> \n",
        "model.add(Conv2D(32, kernel_size=3, strides=1, padding='same', input_shape=input_shape))\n",
        "model.add(LeakyReLU())\n",
        "model.add(Conv2D(32, kernel_size=3, strides=1, padding='same'))\n",
        "model.add(LeakyReLU())\n",
        "model.add(Conv2D(64, kernel_size=5, strides=2, padding='same'))\n",
        "model.add(LeakyReLU())\n",
        "model.add(Dropout(0.3))\n",
        "\n",
        "\n",
        "model.add(Conv2D(64, kernel_size=3, strides=1, padding='same'))\n",
        "model.add(LeakyReLU())\n",
        "model.add(Conv2D(64, kernel_size=3, strides=1, padding='same'))\n",
        "model.add(LeakyReLU())\n",
        "model.add(Conv2D(128, kernel_size=5, strides=2, padding='same'))\n",
        "model.add(LeakyReLU())\n",
        "model.add(Dropout(0.3))\n",
        "\n",
        "\n",
        "model.add(Conv2D(128, kernel_size=3))\n",
        "model.add(LeakyReLU())\n",
        "model.add(Flatten())\n",
        "model.add(keras.layers.Dense(num_classes, activation=tf.nn.softmax))\n",
        "\n",
        "# 모델 컴파일\n",
        "# optimizer: 모델을 업데이트 하는 방식\n",
        "# loss: 모델의 정확도를 판단하는 방식\n",
        "# metrics: 트레이닝 및 테스팅 성능 모니터링을 위한 평가지표\n",
        "model.compile(loss='categorical_crossentropy', optimizer=optimizer(), metrics=['accuracy'])\n",
        "\n",
        "\n",
        "# 체크포인트 생성\n",
        "# cp_callback = tf.keras.callbacks.ModelCheckpoint(filepath='/content/checkpoint_entire_best.h5', monitor='val_accuracy', verbose=1, save_weight_only=False, save_best_only=True, mode='auto')"
      ],
      "execution_count": 16,
      "outputs": []
    },
    {
      "cell_type": "code",
      "metadata": {
        "id": "h1Velc1f5e7D",
        "colab_type": "code",
        "colab": {
          "base_uri": "https://localhost:8080/",
          "height": 791
        },
        "outputId": "7a2bfb8e-efb5-4f5c-8468-bce3810b4cb3"
      },
      "source": [
        "model.summary()"
      ],
      "execution_count": 17,
      "outputs": [
        {
          "output_type": "stream",
          "text": [
            "Model: \"sequential\"\n",
            "_________________________________________________________________\n",
            "Layer (type)                 Output Shape              Param #   \n",
            "=================================================================\n",
            "conv2d (Conv2D)              (None, 28, 28, 32)        320       \n",
            "_________________________________________________________________\n",
            "leaky_re_lu (LeakyReLU)      (None, 28, 28, 32)        0         \n",
            "_________________________________________________________________\n",
            "conv2d_1 (Conv2D)            (None, 28, 28, 32)        9248      \n",
            "_________________________________________________________________\n",
            "leaky_re_lu_1 (LeakyReLU)    (None, 28, 28, 32)        0         \n",
            "_________________________________________________________________\n",
            "conv2d_2 (Conv2D)            (None, 14, 14, 64)        51264     \n",
            "_________________________________________________________________\n",
            "leaky_re_lu_2 (LeakyReLU)    (None, 14, 14, 64)        0         \n",
            "_________________________________________________________________\n",
            "dropout (Dropout)            (None, 14, 14, 64)        0         \n",
            "_________________________________________________________________\n",
            "conv2d_3 (Conv2D)            (None, 14, 14, 64)        36928     \n",
            "_________________________________________________________________\n",
            "leaky_re_lu_3 (LeakyReLU)    (None, 14, 14, 64)        0         \n",
            "_________________________________________________________________\n",
            "conv2d_4 (Conv2D)            (None, 14, 14, 64)        36928     \n",
            "_________________________________________________________________\n",
            "leaky_re_lu_4 (LeakyReLU)    (None, 14, 14, 64)        0         \n",
            "_________________________________________________________________\n",
            "conv2d_5 (Conv2D)            (None, 7, 7, 128)         204928    \n",
            "_________________________________________________________________\n",
            "leaky_re_lu_5 (LeakyReLU)    (None, 7, 7, 128)         0         \n",
            "_________________________________________________________________\n",
            "dropout_1 (Dropout)          (None, 7, 7, 128)         0         \n",
            "_________________________________________________________________\n",
            "conv2d_6 (Conv2D)            (None, 5, 5, 128)         147584    \n",
            "_________________________________________________________________\n",
            "leaky_re_lu_6 (LeakyReLU)    (None, 5, 5, 128)         0         \n",
            "_________________________________________________________________\n",
            "flatten (Flatten)            (None, 3200)              0         \n",
            "_________________________________________________________________\n",
            "dense (Dense)                (None, 47)                150447    \n",
            "=================================================================\n",
            "Total params: 637,647\n",
            "Trainable params: 637,647\n",
            "Non-trainable params: 0\n",
            "_________________________________________________________________\n"
          ],
          "name": "stdout"
        }
      ]
    },
    {
      "cell_type": "code",
      "metadata": {
        "id": "JzCnX-_d5hMk",
        "colab_type": "code",
        "colab": {
          "base_uri": "https://localhost:8080/",
          "height": 1000
        },
        "outputId": "bfde5338-3cb4-4fd0-bd90-27d1c8d34b0a"
      },
      "source": [
        "# 모델 트레이닝\n",
        "# batch_size: 전체 데이터셋 중 몇개씩 학습시킬 것인지\n",
        "# epoch: 학습에 전체 데이터셋이 총 몇번 이용될 것인지\n",
        "# shuffle: 학습전에 트레이닝 데이터셋을 랜덤하게 섞을 것인지\n",
        "# validation_data: 중간 성능 검증에 사용할 data set\n",
        "# model.fit(x_train_after, y_train, batch_size = 128, epochs = 5, shuffle=True, callbacks=[cp_callback], validation_data=(x_test_after, y_test))\n",
        "hist = model.fit_generator(generator=train_generator,\n",
        "                    steps_per_epoch=len(train_generator),\n",
        "                    epochs=CONFIG['epoch'],\n",
        "                    callbacks=callbacks(),\n",
        "                    validation_data=test_generator,\n",
        "                    use_multiprocessing=True,\n",
        "                    workers=0)"
      ],
      "execution_count": 18,
      "outputs": [
        {
          "output_type": "stream",
          "text": [
            "WARNING:tensorflow:From <ipython-input-18-18d5d4007cbe>:13: Model.fit_generator (from tensorflow.python.keras.engine.training) is deprecated and will be removed in a future version.\n",
            "Instructions for updating:\n",
            "Please use Model.fit, which supports generators.\n",
            "\n",
            "Epoch 00001: CosineAnnealingScheduler setting learning rate <tf.Variable 'learning_rate:0' shape=() dtype=float32, numpy=0.001> to 0.001.\n",
            "Epoch 1/50\n",
            "882/882 [==============================] - ETA: 0s - loss: 2.1668 - accuracy: 0.6665\n",
            "Epoch 00001: val_accuracy improved from -inf to 0.84053, saving model to /content/checkpoint_entire_best.h5\n",
            "882/882 [==============================] - 49s 55ms/step - loss: 2.1668 - accuracy: 0.6665 - val_loss: 0.5877 - val_accuracy: 0.8405\n",
            "\n",
            "Epoch 00002: CosineAnnealingScheduler setting learning rate <tf.Variable 'learning_rate:0' shape=() dtype=float32, numpy=0.001> to 0.0009989737236787931.\n",
            "Epoch 2/50\n",
            "882/882 [==============================] - ETA: 0s - loss: 1.8549 - accuracy: 0.7826\n",
            "Epoch 00002: val_accuracy improved from 0.84053 to 0.86543, saving model to /content/checkpoint_entire_best.h5\n",
            "882/882 [==============================] - 49s 55ms/step - loss: 1.8549 - accuracy: 0.7826 - val_loss: 0.5477 - val_accuracy: 0.8654\n",
            "\n",
            "Epoch 00003: CosineAnnealingScheduler setting learning rate <tf.Variable 'learning_rate:0' shape=() dtype=float32, numpy=0.0009989737> to 0.0009958991119047114.\n",
            "Epoch 3/50\n",
            "882/882 [==============================] - ETA: 0s - loss: 1.7878 - accuracy: 0.8051\n",
            "Epoch 00003: val_accuracy improved from 0.86543 to 0.86952, saving model to /content/checkpoint_entire_best.h5\n",
            "882/882 [==============================] - 49s 56ms/step - loss: 1.7878 - accuracy: 0.8051 - val_loss: 0.5629 - val_accuracy: 0.8695\n",
            "\n",
            "Epoch 00004: CosineAnnealingScheduler setting learning rate <tf.Variable 'learning_rate:0' shape=() dtype=float32, numpy=0.0009958991> to 0.0009907887989170372.\n",
            "Epoch 4/50\n",
            "882/882 [==============================] - ETA: 0s - loss: 1.7572 - accuracy: 0.8134\n",
            "Epoch 00004: val_accuracy improved from 0.86952 to 0.87319, saving model to /content/checkpoint_entire_best.h5\n",
            "882/882 [==============================] - 49s 56ms/step - loss: 1.7572 - accuracy: 0.8134 - val_loss: 0.4909 - val_accuracy: 0.8732\n",
            "\n",
            "Epoch 00005: CosineAnnealingScheduler setting learning rate <tf.Variable 'learning_rate:0' shape=() dtype=float32, numpy=0.0009907888> to 0.0009836637840879951.\n",
            "Epoch 5/50\n",
            "882/882 [==============================] - ETA: 0s - loss: 1.7340 - accuracy: 0.8211\n",
            "Epoch 00005: val_accuracy improved from 0.87319 to 0.87628, saving model to /content/checkpoint_entire_best.h5\n",
            "882/882 [==============================] - 49s 56ms/step - loss: 1.7340 - accuracy: 0.8211 - val_loss: 0.5868 - val_accuracy: 0.8763\n",
            "\n",
            "Epoch 00006: CosineAnnealingScheduler setting learning rate <tf.Variable 'learning_rate:0' shape=() dtype=float32, numpy=0.0009836638> to 0.0009745533456318291.\n",
            "Epoch 6/50\n",
            "882/882 [==============================] - ETA: 0s - loss: 1.7188 - accuracy: 0.8258\n",
            "Epoch 00006: val_accuracy improved from 0.87628 to 0.88080, saving model to /content/checkpoint_entire_best.h5\n",
            "882/882 [==============================] - 49s 56ms/step - loss: 1.7188 - accuracy: 0.8258 - val_loss: 0.4968 - val_accuracy: 0.8808\n",
            "\n",
            "Epoch 00007: CosineAnnealingScheduler setting learning rate <tf.Variable 'learning_rate:0' shape=() dtype=float32, numpy=0.00097455335> to 0.000963494920294338.\n",
            "Epoch 7/50\n",
            "882/882 [==============================] - ETA: 0s - loss: 1.7065 - accuracy: 0.8287\n",
            "Epoch 00007: val_accuracy improved from 0.88080 to 0.88351, saving model to /content/checkpoint_entire_best.h5\n",
            "882/882 [==============================] - 49s 56ms/step - loss: 1.7065 - accuracy: 0.8287 - val_loss: 0.5356 - val_accuracy: 0.8835\n",
            "\n",
            "Epoch 00008: CosineAnnealingScheduler setting learning rate <tf.Variable 'learning_rate:0' shape=() dtype=float32, numpy=0.00096349494> to 0.0009505339495172585.\n",
            "Epoch 8/50\n",
            "882/882 [==============================] - ETA: 0s - loss: 1.6983 - accuracy: 0.8309\n",
            "Epoch 00008: val_accuracy did not improve from 0.88351\n",
            "882/882 [==============================] - 50s 56ms/step - loss: 1.6983 - accuracy: 0.8309 - val_loss: 0.5106 - val_accuracy: 0.8785\n",
            "\n",
            "Epoch 00009: CosineAnnealingScheduler setting learning rate <tf.Variable 'learning_rate:0' shape=() dtype=float32, numpy=0.00095053395> to 0.0009357236927096331.\n",
            "Epoch 9/50\n",
            "882/882 [==============================] - ETA: 0s - loss: 1.6861 - accuracy: 0.8359\n",
            "Epoch 00009: val_accuracy did not improve from 0.88351\n",
            "882/882 [==============================] - 50s 56ms/step - loss: 1.6861 - accuracy: 0.8359 - val_loss: 0.5215 - val_accuracy: 0.8801\n",
            "\n",
            "Epoch 00010: CosineAnnealingScheduler setting learning rate <tf.Variable 'learning_rate:0' shape=() dtype=float32, numpy=0.0009357237> to 0.0009191250083934744.\n",
            "Epoch 10/50\n",
            "882/882 [==============================] - ETA: 0s - loss: 1.6807 - accuracy: 0.8369\n",
            "Epoch 00010: val_accuracy improved from 0.88351 to 0.88718, saving model to /content/checkpoint_entire_best.h5\n",
            "882/882 [==============================] - 50s 57ms/step - loss: 1.6807 - accuracy: 0.8369 - val_loss: 0.4697 - val_accuracy: 0.8872\n",
            "\n",
            "Epoch 00011: CosineAnnealingScheduler setting learning rate <tf.Variable 'learning_rate:0' shape=() dtype=float32, numpy=0.000919125> to 0.0009008061041230445.\n",
            "Epoch 11/50\n",
            "882/882 [==============================] - ETA: 0s - loss: 1.6700 - accuracy: 0.8399\n",
            "Epoch 00011: val_accuracy improved from 0.88718 to 0.88979, saving model to /content/checkpoint_entire_best.h5\n",
            "882/882 [==============================] - 50s 57ms/step - loss: 1.6700 - accuracy: 0.8399 - val_loss: 0.4715 - val_accuracy: 0.8898\n",
            "\n",
            "Epoch 00012: CosineAnnealingScheduler setting learning rate <tf.Variable 'learning_rate:0' shape=() dtype=float32, numpy=0.0009008061> to 0.0008808422562053827.\n",
            "Epoch 12/50\n",
            "882/882 [==============================] - ETA: 0s - loss: 1.6650 - accuracy: 0.8412\n",
            "Epoch 00012: val_accuracy did not improve from 0.88979\n",
            "882/882 [==============================] - 50s 57ms/step - loss: 1.6650 - accuracy: 0.8412 - val_loss: 0.4969 - val_accuracy: 0.8834\n",
            "\n",
            "Epoch 00013: CosineAnnealingScheduler setting learning rate <tf.Variable 'learning_rate:0' shape=() dtype=float32, numpy=0.0008808423> to 0.000859315500373815.\n",
            "Epoch 13/50\n",
            "882/882 [==============================] - ETA: 0s - loss: 1.6546 - accuracy: 0.8451\n",
            "Epoch 00013: val_accuracy did not improve from 0.88979\n",
            "882/882 [==============================] - 50s 56ms/step - loss: 1.6546 - accuracy: 0.8451 - val_loss: 0.4966 - val_accuracy: 0.8880\n",
            "\n",
            "Epoch 00014: CosineAnnealingScheduler setting learning rate <tf.Variable 'learning_rate:0' shape=() dtype=float32, numpy=0.0008593155> to 0.0008363142946855278.\n",
            "Epoch 14/50\n",
            "882/882 [==============================] - ETA: 0s - loss: 1.6559 - accuracy: 0.8438\n",
            "Epoch 00014: val_accuracy did not improve from 0.88979\n",
            "882/882 [==============================] - 50s 56ms/step - loss: 1.6559 - accuracy: 0.8438 - val_loss: 0.5565 - val_accuracy: 0.8867\n",
            "\n",
            "Epoch 00015: CosineAnnealingScheduler setting learning rate <tf.Variable 'learning_rate:0' shape=() dtype=float32, numpy=0.0008363143> to 0.0008119331560284375.\n",
            "Epoch 15/50\n",
            "882/882 [==============================] - ETA: 0s - loss: 1.6491 - accuracy: 0.8466\n",
            "Epoch 00015: val_accuracy did not improve from 0.88979\n",
            "882/882 [==============================] - 50s 56ms/step - loss: 1.6491 - accuracy: 0.8466 - val_loss: 0.5459 - val_accuracy: 0.8870\n",
            "\n",
            "Epoch 00016: CosineAnnealingScheduler setting learning rate <tf.Variable 'learning_rate:0' shape=() dtype=float32, numpy=0.00081193313> to 0.0007862722717310238.\n",
            "Epoch 16/50\n",
            "882/882 [==============================] - ETA: 0s - loss: 1.6406 - accuracy: 0.8485\n",
            "Epoch 00016: val_accuracy did not improve from 0.88979\n",
            "882/882 [==============================] - 50s 56ms/step - loss: 1.6406 - accuracy: 0.8485 - val_loss: 0.4890 - val_accuracy: 0.8842\n",
            "\n",
            "Epoch 00017: CosineAnnealingScheduler setting learning rate <tf.Variable 'learning_rate:0' shape=() dtype=float32, numpy=0.0007862723> to 0.0007594370878711075.\n",
            "Epoch 17/50\n",
            "882/882 [==============================] - ETA: 0s - loss: 1.6362 - accuracy: 0.8494\n",
            "Epoch 00017: val_accuracy did not improve from 0.88979\n",
            "882/882 [==============================] - 50s 56ms/step - loss: 1.6362 - accuracy: 0.8494 - val_loss: 0.5395 - val_accuracy: 0.8880\n",
            "\n",
            "Epoch 00018: CosineAnnealingScheduler setting learning rate <tf.Variable 'learning_rate:0' shape=() dtype=float32, numpy=0.0007594371> to 0.0007315378759752973.\n",
            "Epoch 18/50\n",
            "882/882 [==============================] - ETA: 0s - loss: 1.6311 - accuracy: 0.8514\n",
            "Epoch 00018: val_accuracy did not improve from 0.88979\n",
            "882/882 [==============================] - 50s 56ms/step - loss: 1.6311 - accuracy: 0.8514 - val_loss: 0.4666 - val_accuracy: 0.8885\n",
            "\n",
            "Epoch 00019: CosineAnnealingScheduler setting learning rate <tf.Variable 'learning_rate:0' shape=() dtype=float32, numpy=0.0007315379> to 0.0007026892798896357.\n",
            "Epoch 19/50\n",
            "882/882 [==============================] - ETA: 0s - loss: 1.6269 - accuracy: 0.8510\n",
            "Epoch 00019: val_accuracy improved from 0.88979 to 0.89255, saving model to /content/checkpoint_entire_best.h5\n",
            "882/882 [==============================] - 50s 56ms/step - loss: 1.6269 - accuracy: 0.8510 - val_loss: 0.4842 - val_accuracy: 0.8926\n",
            "\n",
            "Epoch 00020: CosineAnnealingScheduler setting learning rate <tf.Variable 'learning_rate:0' shape=() dtype=float32, numpy=0.0007026893> to 0.0006730098446834433.\n",
            "Epoch 20/50\n",
            "882/882 [==============================] - ETA: 0s - loss: 1.6204 - accuracy: 0.8555\n",
            "Epoch 00020: val_accuracy did not improve from 0.89255\n",
            "882/882 [==============================] - 49s 56ms/step - loss: 1.6204 - accuracy: 0.8555 - val_loss: 0.5161 - val_accuracy: 0.8902\n",
            "\n",
            "Epoch 00021: CosineAnnealingScheduler setting learning rate <tf.Variable 'learning_rate:0' shape=() dtype=float32, numpy=0.00067300984> to 0.0006426215295222007.\n",
            "Epoch 21/50\n",
            "882/882 [==============================] - ETA: 0s - loss: 1.6161 - accuracy: 0.8566\n",
            "Epoch 00021: val_accuracy did not improve from 0.89255\n",
            "882/882 [==============================] - 50s 56ms/step - loss: 1.6161 - accuracy: 0.8566 - val_loss: 0.4498 - val_accuracy: 0.8906\n",
            "\n",
            "Epoch 00022: CosineAnnealingScheduler setting learning rate <tf.Variable 'learning_rate:0' shape=() dtype=float32, numpy=0.00064262154> to 0.0006116492065111791.\n",
            "Epoch 22/50\n",
            "882/882 [==============================] - ETA: 0s - loss: 1.6090 - accuracy: 0.8586\n",
            "Epoch 00022: val_accuracy improved from 0.89255 to 0.89452, saving model to /content/checkpoint_entire_best.h5\n",
            "882/882 [==============================] - 50s 57ms/step - loss: 1.6090 - accuracy: 0.8586 - val_loss: 0.4726 - val_accuracy: 0.8945\n",
            "\n",
            "Epoch 00023: CosineAnnealingScheduler setting learning rate <tf.Variable 'learning_rate:0' shape=() dtype=float32, numpy=0.0006116492> to 0.0005802201475691731.\n",
            "Epoch 23/50\n",
            "882/882 [==============================] - ETA: 0s - loss: 1.6076 - accuracy: 0.8594\n",
            "Epoch 00023: val_accuracy improved from 0.89452 to 0.89457, saving model to /content/checkpoint_entire_best.h5\n",
            "882/882 [==============================] - 49s 56ms/step - loss: 1.6076 - accuracy: 0.8594 - val_loss: 0.4905 - val_accuracy: 0.8946\n",
            "\n",
            "Epoch 00024: CosineAnnealingScheduler setting learning rate <tf.Variable 'learning_rate:0' shape=() dtype=float32, numpy=0.00058022013> to 0.0005484635014408872.\n",
            "Epoch 24/50\n",
            "882/882 [==============================] - ETA: 0s - loss: 1.6019 - accuracy: 0.8602\n",
            "Epoch 00024: val_accuracy did not improve from 0.89457\n",
            "882/882 [==============================] - 50s 57ms/step - loss: 1.6019 - accuracy: 0.8602 - val_loss: 0.4927 - val_accuracy: 0.8912\n",
            "\n",
            "Epoch 00025: CosineAnnealingScheduler setting learning rate <tf.Variable 'learning_rate:0' shape=() dtype=float32, numpy=0.0005484635> to 0.000516509762997042.\n",
            "Epoch 25/50\n",
            "882/882 [==============================] - ETA: 0s - loss: 1.5962 - accuracy: 0.8619\n",
            "Epoch 00025: val_accuracy improved from 0.89457 to 0.89654, saving model to /content/checkpoint_entire_best.h5\n",
            "882/882 [==============================] - 49s 56ms/step - loss: 1.5962 - accuracy: 0.8619 - val_loss: 0.5126 - val_accuracy: 0.8965\n",
            "\n",
            "Epoch 00026: CosineAnnealingScheduler setting learning rate <tf.Variable 'learning_rate:0' shape=() dtype=float32, numpy=0.00051650975> to 0.0004844902370029583.\n",
            "Epoch 26/50\n",
            "882/882 [==============================] - ETA: 0s - loss: 1.5914 - accuracy: 0.8639\n",
            "Epoch 00026: val_accuracy did not improve from 0.89654\n",
            "882/882 [==============================] - 50s 56ms/step - loss: 1.5914 - accuracy: 0.8639 - val_loss: 0.4762 - val_accuracy: 0.8947\n",
            "\n",
            "Epoch 00027: CosineAnnealingScheduler setting learning rate <tf.Variable 'learning_rate:0' shape=() dtype=float32, numpy=0.00048449024> to 0.000452536498559113.\n",
            "Epoch 27/50\n",
            "882/882 [==============================] - ETA: 0s - loss: 1.5865 - accuracy: 0.8655\n",
            "Epoch 00027: val_accuracy did not improve from 0.89654\n",
            "882/882 [==============================] - 50s 56ms/step - loss: 1.5865 - accuracy: 0.8655 - val_loss: 0.5111 - val_accuracy: 0.8952\n",
            "\n",
            "Epoch 00028: CosineAnnealingScheduler setting learning rate <tf.Variable 'learning_rate:0' shape=() dtype=float32, numpy=0.0004525365> to 0.00042077985243082713.\n",
            "Epoch 28/50\n",
            "882/882 [==============================] - ETA: 0s - loss: 1.5840 - accuracy: 0.8661\n",
            "Epoch 00028: val_accuracy did not improve from 0.89654\n",
            "882/882 [==============================] - 53s 60ms/step - loss: 1.5840 - accuracy: 0.8661 - val_loss: 0.4735 - val_accuracy: 0.8949\n",
            "\n",
            "Epoch 00029: CosineAnnealingScheduler setting learning rate <tf.Variable 'learning_rate:0' shape=() dtype=float32, numpy=0.00042077986> to 0.00038935079348882104.\n",
            "Epoch 29/50\n",
            "882/882 [==============================] - ETA: 0s - loss: 1.5774 - accuracy: 0.8671\n",
            "Epoch 00029: val_accuracy did not improve from 0.89654\n",
            "882/882 [==============================] - 51s 58ms/step - loss: 1.5774 - accuracy: 0.8671 - val_loss: 0.5138 - val_accuracy: 0.8964\n",
            "\n",
            "Epoch 00030: CosineAnnealingScheduler setting learning rate <tf.Variable 'learning_rate:0' shape=() dtype=float32, numpy=0.00038935078> to 0.00035837847047779937.\n",
            "Epoch 30/50\n",
            "882/882 [==============================] - ETA: 0s - loss: 1.5743 - accuracy: 0.8692\n",
            "Epoch 00030: val_accuracy improved from 0.89654 to 0.89755, saving model to /content/checkpoint_entire_best.h5\n",
            "882/882 [==============================] - 51s 58ms/step - loss: 1.5743 - accuracy: 0.8692 - val_loss: 0.4745 - val_accuracy: 0.8976\n",
            "\n",
            "Epoch 00031: CosineAnnealingScheduler setting learning rate <tf.Variable 'learning_rate:0' shape=() dtype=float32, numpy=0.00035837846> to 0.000327990155316557.\n",
            "Epoch 31/50\n",
            "882/882 [==============================] - ETA: 0s - loss: 1.5700 - accuracy: 0.8699\n",
            "Epoch 00031: val_accuracy did not improve from 0.89755\n",
            "882/882 [==============================] - 51s 58ms/step - loss: 1.5700 - accuracy: 0.8699 - val_loss: 0.5052 - val_accuracy: 0.8967\n",
            "\n",
            "Epoch 00032: CosineAnnealingScheduler setting learning rate <tf.Variable 'learning_rate:0' shape=() dtype=float32, numpy=0.00032799016> to 0.0002983107201103644.\n",
            "Epoch 32/50\n",
            "882/882 [==============================] - ETA: 0s - loss: 1.5648 - accuracy: 0.8729\n",
            "Epoch 00032: val_accuracy did not improve from 0.89755\n",
            "882/882 [==============================] - 51s 58ms/step - loss: 1.5648 - accuracy: 0.8729 - val_loss: 0.4694 - val_accuracy: 0.8975\n",
            "\n",
            "Epoch 00033: CosineAnnealingScheduler setting learning rate <tf.Variable 'learning_rate:0' shape=() dtype=float32, numpy=0.0002983107> to 0.00026946212402470293.\n",
            "Epoch 33/50\n",
            "882/882 [==============================] - ETA: 0s - loss: 1.5609 - accuracy: 0.8738\n",
            "Epoch 00033: val_accuracy did not improve from 0.89755\n",
            "882/882 [==============================] - 51s 57ms/step - loss: 1.5609 - accuracy: 0.8738 - val_loss: 0.4825 - val_accuracy: 0.8950\n",
            "\n",
            "Epoch 00034: CosineAnnealingScheduler setting learning rate <tf.Variable 'learning_rate:0' shape=() dtype=float32, numpy=0.00026946212> to 0.00024156291212889275.\n",
            "Epoch 34/50\n",
            "882/882 [==============================] - ETA: 0s - loss: 1.5575 - accuracy: 0.8744\n",
            "Epoch 00034: val_accuracy improved from 0.89755 to 0.89856, saving model to /content/checkpoint_entire_best.h5\n",
            "882/882 [==============================] - 51s 58ms/step - loss: 1.5575 - accuracy: 0.8744 - val_loss: 0.4913 - val_accuracy: 0.8986\n",
            "\n",
            "Epoch 00035: CosineAnnealingScheduler setting learning rate <tf.Variable 'learning_rate:0' shape=() dtype=float32, numpy=0.00024156291> to 0.00021472772826897622.\n",
            "Epoch 35/50\n",
            "882/882 [==============================] - ETA: 0s - loss: 1.5527 - accuracy: 0.8755\n",
            "Epoch 00035: val_accuracy improved from 0.89856 to 0.90074, saving model to /content/checkpoint_entire_best.h5\n",
            "882/882 [==============================] - 51s 57ms/step - loss: 1.5527 - accuracy: 0.8755 - val_loss: 0.4824 - val_accuracy: 0.9007\n",
            "\n",
            "Epoch 00036: CosineAnnealingScheduler setting learning rate <tf.Variable 'learning_rate:0' shape=() dtype=float32, numpy=0.00021472773> to 0.00018906684397156263.\n",
            "Epoch 36/50\n",
            "882/882 [==============================] - ETA: 0s - loss: 1.5492 - accuracy: 0.8770\n",
            "Epoch 00036: val_accuracy improved from 0.90074 to 0.90277, saving model to /content/checkpoint_entire_best.h5\n",
            "882/882 [==============================] - 51s 58ms/step - loss: 1.5492 - accuracy: 0.8770 - val_loss: 0.4673 - val_accuracy: 0.9028\n",
            "\n",
            "Epoch 00037: CosineAnnealingScheduler setting learning rate <tf.Variable 'learning_rate:0' shape=() dtype=float32, numpy=0.00018906685> to 0.00016468570531447222.\n",
            "Epoch 37/50\n",
            "882/882 [==============================] - ETA: 0s - loss: 1.5452 - accuracy: 0.8788\n",
            "Epoch 00037: val_accuracy did not improve from 0.90277\n",
            "882/882 [==============================] - 51s 58ms/step - loss: 1.5452 - accuracy: 0.8788 - val_loss: 0.4795 - val_accuracy: 0.9019\n",
            "\n",
            "Epoch 00038: CosineAnnealingScheduler setting learning rate <tf.Variable 'learning_rate:0' shape=() dtype=float32, numpy=0.0001646857> to 0.00014168449962618512.\n",
            "Epoch 38/50\n",
            "882/882 [==============================] - ETA: 0s - loss: 1.5412 - accuracy: 0.8807\n",
            "Epoch 00038: val_accuracy did not improve from 0.90277\n",
            "882/882 [==============================] - 51s 57ms/step - loss: 1.5412 - accuracy: 0.8807 - val_loss: 0.4759 - val_accuracy: 0.8997\n",
            "\n",
            "Epoch 00039: CosineAnnealingScheduler setting learning rate <tf.Variable 'learning_rate:0' shape=() dtype=float32, numpy=0.0001416845> to 0.00012015774379461747.\n",
            "Epoch 39/50\n",
            "882/882 [==============================] - ETA: 0s - loss: 1.5393 - accuracy: 0.8809\n",
            "Epoch 00039: val_accuracy improved from 0.90277 to 0.90324, saving model to /content/checkpoint_entire_best.h5\n",
            "882/882 [==============================] - 51s 57ms/step - loss: 1.5393 - accuracy: 0.8809 - val_loss: 0.4537 - val_accuracy: 0.9032\n",
            "\n",
            "Epoch 00040: CosineAnnealingScheduler setting learning rate <tf.Variable 'learning_rate:0' shape=() dtype=float32, numpy=0.00012015775> to 0.00010019389587695573.\n",
            "Epoch 40/50\n",
            "882/882 [==============================] - ETA: 0s - loss: 1.5365 - accuracy: 0.8819\n",
            "Epoch 00040: val_accuracy did not improve from 0.90324\n",
            "882/882 [==============================] - 51s 57ms/step - loss: 1.5365 - accuracy: 0.8819 - val_loss: 0.4710 - val_accuracy: 0.9014\n",
            "\n",
            "Epoch 00041: CosineAnnealingScheduler setting learning rate <tf.Variable 'learning_rate:0' shape=() dtype=float32, numpy=0.000100193894> to 8.187499160652562e-05.\n",
            "Epoch 41/50\n",
            "882/882 [==============================] - ETA: 0s - loss: 1.5336 - accuracy: 0.8824\n",
            "Epoch 00041: val_accuracy did not improve from 0.90324\n",
            "882/882 [==============================] - 51s 57ms/step - loss: 1.5336 - accuracy: 0.8824 - val_loss: 0.4651 - val_accuracy: 0.9028\n",
            "\n",
            "Epoch 00042: CosineAnnealingScheduler setting learning rate <tf.Variable 'learning_rate:0' shape=() dtype=float32, numpy=8.187499e-05> to 6.52763072903671e-05.\n",
            "Epoch 42/50\n",
            "882/882 [==============================] - ETA: 0s - loss: 1.5325 - accuracy: 0.8826\n",
            "Epoch 00042: val_accuracy did not improve from 0.90324\n",
            "882/882 [==============================] - 51s 58ms/step - loss: 1.5325 - accuracy: 0.8826 - val_loss: 0.4654 - val_accuracy: 0.9032\n",
            "\n",
            "Epoch 00043: CosineAnnealingScheduler setting learning rate <tf.Variable 'learning_rate:0' shape=() dtype=float32, numpy=6.5276305e-05> to 5.046605048274169e-05.\n",
            "Epoch 43/50\n",
            "882/882 [==============================] - ETA: 0s - loss: 1.5289 - accuracy: 0.8851\n",
            "Epoch 00043: val_accuracy did not improve from 0.90324\n",
            "882/882 [==============================] - 51s 57ms/step - loss: 1.5289 - accuracy: 0.8851 - val_loss: 0.4650 - val_accuracy: 0.9014\n",
            "\n",
            "Epoch 00044: CosineAnnealingScheduler setting learning rate <tf.Variable 'learning_rate:0' shape=() dtype=float32, numpy=5.046605e-05> to 3.75050797056622e-05.\n",
            "Epoch 44/50\n",
            "882/882 [==============================] - ETA: 0s - loss: 1.5276 - accuracy: 0.8845\n",
            "Epoch 00044: val_accuracy did not improve from 0.90324\n",
            "882/882 [==============================] - 50s 57ms/step - loss: 1.5276 - accuracy: 0.8845 - val_loss: 0.4685 - val_accuracy: 0.9032\n",
            "\n",
            "Epoch 00045: CosineAnnealingScheduler setting learning rate <tf.Variable 'learning_rate:0' shape=() dtype=float32, numpy=3.750508e-05> to 2.6446654368171073e-05.\n",
            "Epoch 45/50\n",
            "882/882 [==============================] - ETA: 0s - loss: 1.5271 - accuracy: 0.8846\n",
            "Epoch 00045: val_accuracy improved from 0.90324 to 0.90335, saving model to /content/checkpoint_entire_best.h5\n",
            "882/882 [==============================] - 51s 57ms/step - loss: 1.5271 - accuracy: 0.8846 - val_loss: 0.4698 - val_accuracy: 0.9034\n",
            "\n",
            "Epoch 00046: CosineAnnealingScheduler setting learning rate <tf.Variable 'learning_rate:0' shape=() dtype=float32, numpy=2.6446654e-05> to 1.7336215912004792e-05.\n",
            "Epoch 46/50\n",
            "882/882 [==============================] - ETA: 0s - loss: 1.5252 - accuracy: 0.8857\n",
            "Epoch 00046: val_accuracy improved from 0.90335 to 0.90372, saving model to /content/checkpoint_entire_best.h5\n",
            "882/882 [==============================] - 51s 57ms/step - loss: 1.5252 - accuracy: 0.8857 - val_loss: 0.4641 - val_accuracy: 0.9037\n",
            "\n",
            "Epoch 00047: CosineAnnealingScheduler setting learning rate <tf.Variable 'learning_rate:0' shape=() dtype=float32, numpy=1.7336215e-05> to 1.021120108296287e-05.\n",
            "Epoch 47/50\n",
            "882/882 [==============================] - ETA: 0s - loss: 1.5238 - accuracy: 0.8862\n",
            "Epoch 00047: val_accuracy improved from 0.90372 to 0.90404, saving model to /content/checkpoint_entire_best.h5\n",
            "882/882 [==============================] - 51s 57ms/step - loss: 1.5238 - accuracy: 0.8862 - val_loss: 0.4625 - val_accuracy: 0.9040\n",
            "\n",
            "Epoch 00048: CosineAnnealingScheduler setting learning rate <tf.Variable 'learning_rate:0' shape=() dtype=float32, numpy=1.0211201e-05> to 5.100888095288597e-06.\n",
            "Epoch 48/50\n",
            "882/882 [==============================] - ETA: 0s - loss: 1.5244 - accuracy: 0.8853\n",
            "Epoch 00048: val_accuracy improved from 0.90404 to 0.90410, saving model to /content/checkpoint_entire_best.h5\n",
            "882/882 [==============================] - 51s 58ms/step - loss: 1.5244 - accuracy: 0.8853 - val_loss: 0.4675 - val_accuracy: 0.9041\n",
            "\n",
            "Epoch 00049: CosineAnnealingScheduler setting learning rate <tf.Variable 'learning_rate:0' shape=() dtype=float32, numpy=5.1008883e-06> to 2.026276321207001e-06.\n",
            "Epoch 49/50\n",
            "882/882 [==============================] - ETA: 0s - loss: 1.5221 - accuracy: 0.8865\n",
            "Epoch 00049: val_accuracy improved from 0.90410 to 0.90452, saving model to /content/checkpoint_entire_best.h5\n",
            "882/882 [==============================] - 51s 58ms/step - loss: 1.5221 - accuracy: 0.8865 - val_loss: 0.4621 - val_accuracy: 0.9045\n",
            "\n",
            "Epoch 00050: CosineAnnealingScheduler setting learning rate <tf.Variable 'learning_rate:0' shape=() dtype=float32, numpy=2.0262764e-06> to 1e-06.\n",
            "Epoch 50/50\n",
            "882/882 [==============================] - ETA: 0s - loss: 1.5221 - accuracy: 0.8877\n",
            "Epoch 00050: val_accuracy did not improve from 0.90452\n",
            "882/882 [==============================] - 50s 57ms/step - loss: 1.5221 - accuracy: 0.8877 - val_loss: 0.4656 - val_accuracy: 0.9041\n"
          ],
          "name": "stdout"
        }
      ]
    },
    {
      "cell_type": "code",
      "metadata": {
        "id": "pZ_QPnMCDe0t",
        "colab_type": "code",
        "colab": {
          "base_uri": "https://localhost:8080/",
          "height": 1000
        },
        "outputId": "56942a7e-ec55-472d-e263-64008981792c"
      },
      "source": [
        "import matplotlib.pyplot as plt\n",
        "\n",
        "# Accuracy Visualization\n",
        "plt.plot(hist.history['accuracy'])\n",
        "plt.plot(hist.history['val_accuracy'])\n",
        "plt.title('Model Accuracy')\n",
        "plt.xlabel('Epoch')\n",
        "plt.ylabel('Accuracy')\n",
        "plt.legend(['Train','Test'],loc='upper_left')\n",
        "plt.show()\n",
        "\n",
        "# Loss Visualization\n",
        "plt.plot(hist.history['loss'])\n",
        "plt.plot(hist.history['val_loss'])\n",
        "plt.title('Model loss')\n",
        "plt.xlabel('Epoch')\n",
        "plt.ylabel('Loss')\n",
        "plt.legend(['Train','Test'],loc='upper_left')\n",
        "plt.show()"
      ],
      "execution_count": 22,
      "outputs": [
        {
          "output_type": "stream",
          "text": [
            "/usr/local/lib/python3.6/dist-packages/ipykernel_launcher.py:9: MatplotlibDeprecationWarning: Unrecognized location 'upper_left'. Falling back on 'best'; valid locations are\n",
            "\tbest\n",
            "\tupper right\n",
            "\tupper left\n",
            "\tlower left\n",
            "\tlower right\n",
            "\tright\n",
            "\tcenter left\n",
            "\tcenter right\n",
            "\tlower center\n",
            "\tupper center\n",
            "\tcenter\n",
            "This will raise an exception in 3.3.\n",
            "  if __name__ == '__main__':\n"
          ],
          "name": "stderr"
        },
        {
          "output_type": "display_data",
          "data": {
            "image/png": "[encoded data removed]",
            "text/plain": [
              "<Figure size 432x288 with 1 Axes>"
            ]
          },
          "metadata": {
            "tags": [],
            "needs_background": "light"
          }
        },
        {
          "output_type": "stream",
          "text": [
            "/usr/local/lib/python3.6/dist-packages/ipykernel_launcher.py:18: MatplotlibDeprecationWarning: Unrecognized location 'upper_left'. Falling back on 'best'; valid locations are\n",
            "\tbest\n",
            "\tupper right\n",
            "\tupper left\n",
            "\tlower left\n",
            "\tlower right\n",
            "\tright\n",
            "\tcenter left\n",
            "\tcenter right\n",
            "\tlower center\n",
            "\tupper center\n",
            "\tcenter\n",
            "This will raise an exception in 3.3.\n"
          ],
          "name": "stderr"
        },
        {
          "output_type": "display_data",
          "data": {
            "image/png": "[encoded data removed]",
            "text/plain": [
              "<Figure size 432x288 with 1 Axes>"
            ]
          },
          "metadata": {
            "tags": [],
            "needs_background": "light"
          }
        }
      ]
    },
    {
      "cell_type": "markdown",
      "metadata": {
        "colab_type": "text",
        "id": "QR9WUYXxqtfR"
      },
      "source": [
        "# **4. 모델 저장**"
      ]
    },
    {
      "cell_type": "code",
      "metadata": {
        "colab_type": "code",
        "id": "Wi9yznz4qvzK",
        "colab": {}
      },
      "source": [
        "save_path = '/content/'\n",
        "team_name = CONFIG['team_name']\n",
        "\n",
        "# Load Best Acc Model\n",
        "model.load_weights(save_path + 'checkpoint_entire_best.h5')\n",
        "\n",
        "# 트레이닝된 전체 모델을 저장합니다.\n",
        "model.save(save_path +  'model_entire_'+ team_name + '.h5')"
      ],
      "execution_count": 20,
      "outputs": []
    },
    {
      "cell_type": "markdown",
      "metadata": {
        "colab_type": "text",
        "id": "4aPbgI-c-Kj8"
      },
      "source": [
        "# **5. 모델 로드 및 평가**"
      ]
    },
    {
      "cell_type": "code",
      "metadata": {
        "colab_type": "code",
        "id": "y7WONVxH-Kt6",
        "colab": {
          "base_uri": "https://localhost:8080/",
          "height": 52
        },
        "outputId": "51b8950b-53fa-4499-9ac2-a921207d46fe"
      },
      "source": [
        "save_path = '/content/'\n",
        "team_name = CONFIG['team_name']\n",
        "\n",
        "model = keras.models.load_model(save_path + 'model_entire_' + team_name + '.h5')\n",
        "\n",
        "model.evaluate(test_generator)"
      ],
      "execution_count": 25,
      "outputs": [
        {
          "output_type": "stream",
          "text": [
            "188/188 [==============================] - 1s 7ms/step - loss: 0.4621 - accuracy: 0.9045\n"
          ],
          "name": "stdout"
        },
        {
          "output_type": "execute_result",
          "data": {
            "text/plain": [
              "[0.4621233344078064, 0.9045212864875793]"
            ]
          },
          "metadata": {
            "tags": []
          },
          "execution_count": 25
        }
      ]
    }
  ]
}